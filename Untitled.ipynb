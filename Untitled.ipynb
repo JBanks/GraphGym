{
 "cells": [
  {
   "cell_type": "code",
   "execution_count": 2,
   "metadata": {},
   "outputs": [],
   "source": [
    "import os\n",
    "#os.environ[\"CUDA_VISIBLE_DEVICES\"] = \"0\"\n",
    "from tf_geometric.utils import tf_utils\n",
    "import tensorflow as tf\n",
    "import tf_geometric as tfg\n",
    "from tqdm import tqdm\n",
    "import time\n",
    "from tf_geometric.data.graph import Graph\n",
    "#graph, (train_index, valid_index, test_index) = tfg.datasets.CoraDataset().load_data()\n",
    "#\n",
    "#num_classes = graph.y.max() + 1\n",
    "#drop_rate = 0.5\n",
    "#learning_rate = 1e-2"
   ]
  },
  {
   "cell_type": "code",
   "execution_count": null,
   "metadata": {},
   "outputs": [],
   "source": []
  },
  {
   "cell_type": "code",
   "execution_count": 4,
   "metadata": {},
   "outputs": [
    {
     "data": {
      "text/plain": [
       "[PhysicalDevice(name='/physical_device:GPU:0', device_type='GPU')]"
      ]
     },
     "execution_count": 4,
     "metadata": {},
     "output_type": "execute_result"
    }
   ],
   "source": [
    "tf.config.experimental.list_physical_devices('GPU')"
   ]
  },
  {
   "cell_type": "code",
   "execution_count": 75,
   "metadata": {},
   "outputs": [
    {
     "name": "stdout",
     "output_type": "stream",
     "text": [
      "raw data exists: /home/zhihao/Document/tf_geom/data/cora/raw, ignore\n"
     ]
    }
   ],
   "source": [
    "graph, (train_index, valid_index, test_index) = tfg.datasets.CoraDataset().load_data()"
   ]
  },
  {
   "cell_type": "code",
   "execution_count": 16,
   "metadata": {},
   "outputs": [
    {
     "data": {
      "text/plain": [
       "140"
      ]
     },
     "execution_count": 16,
     "metadata": {},
     "output_type": "execute_result"
    }
   ],
   "source": [
    "len(train_index)"
   ]
  },
  {
   "cell_type": "code",
   "execution_count": 2,
   "metadata": {},
   "outputs": [
    {
     "ename": "NameError",
     "evalue": "name 'graph' is not defined",
     "output_type": "error",
     "traceback": [
      "\u001b[0;31m---------------------------------------------------------------------------\u001b[0m",
      "\u001b[0;31mNameError\u001b[0m                                 Traceback (most recent call last)",
      "\u001b[0;32m/tmp/ipykernel_46743/1134548262.py\u001b[0m in \u001b[0;36m<module>\u001b[0;34m\u001b[0m\n\u001b[0;32m----> 1\u001b[0;31m \u001b[0mgraph\u001b[0m\u001b[0;34m\u001b[0m\u001b[0;34m\u001b[0m\u001b[0m\n\u001b[0m",
      "\u001b[0;31mNameError\u001b[0m: name 'graph' is not defined"
     ]
    }
   ],
   "source": [
    "graph"
   ]
  },
  {
   "cell_type": "code",
   "execution_count": 77,
   "metadata": {},
   "outputs": [
    {
     "data": {
      "text/plain": [
       "array([[0., 0., 0., ..., 0., 0., 0.],\n",
       "       [0., 0., 0., ..., 0., 0., 0.],\n",
       "       [0., 0., 0., ..., 0., 0., 0.],\n",
       "       ...,\n",
       "       [0., 0., 0., ..., 0., 0., 0.],\n",
       "       [0., 0., 0., ..., 0., 0., 0.],\n",
       "       [0., 0., 0., ..., 0., 0., 0.]], dtype=float32)"
      ]
     },
     "execution_count": 77,
     "metadata": {},
     "output_type": "execute_result"
    }
   ],
   "source": [
    "graph.x"
   ]
  },
  {
   "cell_type": "code",
   "execution_count": 14,
   "metadata": {},
   "outputs": [
    {
     "data": {
      "text/plain": [
       "array([3, 4, 4, ..., 3, 3, 3], dtype=int32)"
      ]
     },
     "execution_count": 14,
     "metadata": {},
     "output_type": "execute_result"
    }
   ],
   "source": [
    "graph.y"
   ]
  },
  {
   "cell_type": "code",
   "execution_count": 79,
   "metadata": {},
   "outputs": [
    {
     "data": {
      "text/plain": [
       "array([[   0,    0,    0, ..., 2688, 2695, 2707],\n",
       "       [ 633, 1862, 2582, ..., 2687, 2694, 2706]], dtype=int32)"
      ]
     },
     "execution_count": 79,
     "metadata": {},
     "output_type": "execute_result"
    }
   ],
   "source": [
    "graph.edge_index"
   ]
  },
  {
   "cell_type": "code",
   "execution_count": null,
   "metadata": {},
   "outputs": [],
   "source": []
  },
  {
   "cell_type": "code",
   "execution_count": 65,
   "metadata": {},
   "outputs": [],
   "source": [
    "import os\n",
    "import random\n",
    "import numpy as np\n",
    "import torch\n",
    "import logging\n",
    "\n",
    "from graphgym.cmd_args import parse_args\n",
    "from graphgym.config import (cfg, assert_cfg, dump_cfg,\n",
    "                             update_out_dir, get_parent_dir)\n",
    "from graphgym.loader import create_dataset, create_loader,load_dataset\n",
    "from graphgym.logger import setup_printing, create_logger\n",
    "from graphgym.optimizer import create_optimizer, create_scheduler\n",
    "from graphgym.model_builder import create_model\n",
    "from graphgym.train import train\n",
    "from graphgym.utils.agg_runs import agg_runs\n",
    "from graphgym.utils.comp_budget import params_count\n",
    "from graphgym.utils.device import auto_select_device\n",
    "from graphgym.contrib.train import *\n",
    "from graphgym.register import train_dict\n",
    "from deepsnap.dataset import GraphDataset\n",
    "import graphgym.models.feature_augment as preprocess"
   ]
  },
  {
   "cell_type": "code",
   "execution_count": 151,
   "metadata": {},
   "outputs": [
    {
     "name": "stdout",
     "output_type": "stream",
     "text": [
      "scalefree\n"
     ]
    }
   ],
   "source": [
    "cfg.merge_from_file('node.yaml')\n",
    "graphs = load_dataset()"
   ]
  },
  {
   "cell_type": "code",
   "execution_count": 152,
   "metadata": {},
   "outputs": [
    {
     "data": {
      "text/plain": [
       "['node_identity']"
      ]
     },
     "execution_count": 152,
     "metadata": {},
     "output_type": "execute_result"
    }
   ],
   "source": [
    "cfg.dataset.augment_feature"
   ]
  },
  {
   "cell_type": "code",
   "execution_count": 153,
   "metadata": {},
   "outputs": [],
   "source": [
    "dataset = GraphDataset(\n",
    "        graphs,\n",
    "        task=cfg.dataset.task,\n",
    "        edge_train_mode=cfg.dataset.edge_train_mode,\n",
    "        edge_message_ratio=cfg.dataset.edge_message_ratio,\n",
    "        edge_negative_sampling_ratio=cfg.dataset.edge_negative_sampling_ratio,\n",
    "        resample_disjoint=cfg.dataset.resample_disjoint,\n",
    "        minimum_node_per_graph=5)"
   ]
  },
  {
   "cell_type": "code",
   "execution_count": 154,
   "metadata": {},
   "outputs": [
    {
     "data": {
      "text/plain": [
       "GraphDataset(256)"
      ]
     },
     "execution_count": 154,
     "metadata": {},
     "output_type": "execute_result"
    }
   ],
   "source": [
    "dataset"
   ]
  },
  {
   "cell_type": "code",
   "execution_count": 155,
   "metadata": {},
   "outputs": [
    {
     "data": {
      "text/plain": [
       "Graph(G=[], edge_index=[2, 1064], edge_label_index=[2, 1064], node_feature=[64, 1], node_label_index=[64], task=[])"
      ]
     },
     "execution_count": 155,
     "metadata": {},
     "output_type": "execute_result"
    }
   ],
   "source": [
    "graphs[0]"
   ]
  },
  {
   "cell_type": "code",
   "execution_count": 156,
   "metadata": {},
   "outputs": [],
   "source": [
    "def transform_before_split(dataset):\n",
    "    '''\n",
    "    Dataset transformation before train/val/test split\n",
    "    :param dataset: A DeepSNAP dataset object\n",
    "    :return: A transformed DeepSNAP dataset object\n",
    "    '''\n",
    "    if cfg.dataset.remove_feature:\n",
    "        dataset.apply_transform(remove_node_feature,\n",
    "                                update_graph=True, update_tensor=False)\n",
    "    augmentation = preprocess.FeatureAugment()\n",
    "    actual_feat_dims, actual_label_dim = augmentation.augment(dataset)\n",
    "    if cfg.dataset.augment_label:\n",
    "        dataset.apply_transform(preprocess._replace_label,\n",
    "                                update_graph=True, update_tensor=False)\n",
    "    # Update augmented feature/label dims by real dims (user specified dims\n",
    "    # may not be realized)\n",
    "    cfg.dataset.augment_feature_dims = actual_feat_dims\n",
    "    if cfg.dataset.augment_label:\n",
    "        cfg.dataset.augment_label_dims = actual_label_dim\n",
    "\n",
    "    # Temporary for ID-GNN path prediction task\n",
    "    if cfg.dataset.task == 'edge' and 'id' in cfg.gnn.layer_type:\n",
    "        dataset.apply_transform(path_len, update_graph=False,\n",
    "                                update_tensor=False)\n",
    "\n",
    "    return dataset\n"
   ]
  },
  {
   "cell_type": "code",
   "execution_count": 157,
   "metadata": {},
   "outputs": [],
   "source": [
    "dataset = transform_before_split(dataset)"
   ]
  },
  {
   "cell_type": "code",
   "execution_count": 163,
   "metadata": {},
   "outputs": [
    {
     "data": {
      "text/plain": [
       "Graph(G=[], edge_index=[2, 1072], edge_label_index=[2, 1072], node_clustering_coefficient_label=[64], node_feature=[64, 1], node_identity=[64, 10], node_label=[64], node_label_index=[64], task=[])"
      ]
     },
     "execution_count": 163,
     "metadata": {},
     "output_type": "execute_result"
    }
   ],
   "source": [
    "dataset.graphs[2]"
   ]
  },
  {
   "cell_type": "code",
   "execution_count": 160,
   "metadata": {},
   "outputs": [
    {
     "ename": "AttributeError",
     "evalue": "'GraphDataset' object has no attribute 'node_label'",
     "output_type": "error",
     "traceback": [
      "\u001b[0;31m---------------------------------------------------------------------------\u001b[0m",
      "\u001b[0;31mAttributeError\u001b[0m                            Traceback (most recent call last)",
      "\u001b[0;32m/tmp/ipykernel_45175/3962099101.py\u001b[0m in \u001b[0;36m<module>\u001b[0;34m\u001b[0m\n\u001b[0;32m----> 1\u001b[0;31m \u001b[0mdataset\u001b[0m\u001b[0;34m.\u001b[0m\u001b[0mnode_label\u001b[0m\u001b[0;34m\u001b[0m\u001b[0;34m\u001b[0m\u001b[0m\n\u001b[0m",
      "\u001b[0;31mAttributeError\u001b[0m: 'GraphDataset' object has no attribute 'node_label'"
     ]
    }
   ],
   "source": [
    "dataset.node_label"
   ]
  },
  {
   "cell_type": "code",
   "execution_count": 82,
   "metadata": {},
   "outputs": [
    {
     "data": {
      "text/plain": [
       "torch.Size([64, 10])"
      ]
     },
     "execution_count": 82,
     "metadata": {},
     "output_type": "execute_result"
    }
   ],
   "source": [
    "dataset.graphs[0].node_identity.shape"
   ]
  },
  {
   "cell_type": "code",
   "execution_count": 84,
   "metadata": {},
   "outputs": [
    {
     "data": {
      "text/plain": [
       "torch.Size([64, 1])"
      ]
     },
     "execution_count": 84,
     "metadata": {},
     "output_type": "execute_result"
    }
   ],
   "source": [
    "dataset.graphs[0].node_feature.shape"
   ]
  },
  {
   "cell_type": "code",
   "execution_count": 87,
   "metadata": {},
   "outputs": [],
   "source": [
    "a = torch.cat((dataset.graphs[0].node_feature,dataset.graphs[0].node_identity),1)"
   ]
  },
  {
   "cell_type": "code",
   "execution_count": 103,
   "metadata": {},
   "outputs": [
    {
     "data": {
      "text/plain": [
       "torch.Size([8192, 10])"
      ]
     },
     "execution_count": 103,
     "metadata": {},
     "output_type": "execute_result"
    }
   ],
   "source": [
    "a[cfg.dataset.augment_feature[0]].shape"
   ]
  },
  {
   "cell_type": "code",
   "execution_count": 102,
   "metadata": {},
   "outputs": [
    {
     "data": {
      "text/plain": [
       "Batch(G=[128], batch=[8192], edge_index=[2, 31744], edge_label_index=[2, 31744], node_clustering_coefficient_label=[8192], node_feature=[8192, 1], node_identity=[8192, 10], node_label=[8192], node_label_index=[8192], task=[128])"
      ]
     },
     "execution_count": 102,
     "metadata": {},
     "output_type": "execute_result"
    }
   ],
   "source": [
    "a"
   ]
  },
  {
   "cell_type": "code",
   "execution_count": null,
   "metadata": {},
   "outputs": [],
   "source": []
  },
  {
   "cell_type": "code",
   "execution_count": 5,
   "metadata": {},
   "outputs": [
    {
     "data": {
      "text/plain": [
       "tensor([0])"
      ]
     },
     "execution_count": 5,
     "metadata": {},
     "output_type": "execute_result"
    }
   ],
   "source": [
    "graphs[0].graph_label"
   ]
  },
  {
   "cell_type": "code",
   "execution_count": 89,
   "metadata": {},
   "outputs": [],
   "source": [
    "datasets = dataset.split(\n",
    "            transductive=cfg.dataset.transductive,\n",
    "            split_ratio=cfg.dataset.split,\n",
    "            shuffle=cfg.dataset.shuffle_split)"
   ]
  },
  {
   "cell_type": "code",
   "execution_count": 90,
   "metadata": {},
   "outputs": [],
   "source": [
    "loaders = create_loader(datasets)"
   ]
  },
  {
   "cell_type": "code",
   "execution_count": 11,
   "metadata": {},
   "outputs": [
    {
     "data": {
      "text/plain": [
       "[GraphDataset(1), GraphDataset(1), GraphDataset(1)]"
      ]
     },
     "execution_count": 11,
     "metadata": {},
     "output_type": "execute_result"
    }
   ],
   "source": [
    "datasets"
   ]
  },
  {
   "cell_type": "code",
   "execution_count": 35,
   "metadata": {},
   "outputs": [],
   "source": [
    "loaders = create_loader(datasets)"
   ]
  },
  {
   "cell_type": "code",
   "execution_count": 36,
   "metadata": {},
   "outputs": [
    {
     "data": {
      "text/plain": [
       "<torch.utils.data.dataloader.DataLoader at 0x7fe28e4ea760>"
      ]
     },
     "execution_count": 36,
     "metadata": {},
     "output_type": "execute_result"
    }
   ],
   "source": [
    "loaders[0]"
   ]
  },
  {
   "cell_type": "code",
   "execution_count": 91,
   "metadata": {},
   "outputs": [],
   "source": [
    "a = next(iter(loaders[0]))"
   ]
  },
  {
   "cell_type": "code",
   "execution_count": 4,
   "metadata": {},
   "outputs": [],
   "source": [
    "a = graphs[0]"
   ]
  },
  {
   "cell_type": "code",
   "execution_count": 5,
   "metadata": {},
   "outputs": [
    {
     "data": {
      "text/plain": [
       "Graph(G=[], edge_index=[2, 10556], edge_label_index=[2, 10556], node_feature=[2708, 1433], node_label=[2708], node_label_index=[2708])"
      ]
     },
     "execution_count": 5,
     "metadata": {},
     "output_type": "execute_result"
    }
   ],
   "source": [
    "a"
   ]
  },
  {
   "cell_type": "code",
   "execution_count": 47,
   "metadata": {},
   "outputs": [
    {
     "data": {
      "text/plain": [
       "torch.Size([2166])"
      ]
     },
     "execution_count": 47,
     "metadata": {},
     "output_type": "execute_result"
    }
   ],
   "source": [
    "a.node_label.shape"
   ]
  },
  {
   "cell_type": "code",
   "execution_count": 6,
   "metadata": {},
   "outputs": [],
   "source": [
    "from tf_geometric.data.graph import Graph\n",
    "graph = Graph(x=a.node_feature.numpy(), \n",
    "                                      edge_index=a.edge_index.numpy(), y=a.node_label.numpy())"
   ]
  },
  {
   "cell_type": "code",
   "execution_count": 49,
   "metadata": {},
   "outputs": [
    {
     "data": {
      "text/plain": [
       "True"
      ]
     },
     "execution_count": 49,
     "metadata": {},
     "output_type": "execute_result"
    }
   ],
   "source": [
    "graph == graph"
   ]
  },
  {
   "cell_type": "code",
   "execution_count": 59,
   "metadata": {},
   "outputs": [
    {
     "data": {
      "text/plain": [
       "Graph Shape: x => (2708, 1433)\tedge_index => (2, 10556)\ty => (2166,)"
      ]
     },
     "execution_count": 59,
     "metadata": {},
     "output_type": "execute_result"
    }
   ],
   "source": [
    "graph"
   ]
  },
  {
   "cell_type": "code",
   "execution_count": null,
   "metadata": {},
   "outputs": [],
   "source": []
  },
  {
   "cell_type": "code",
   "execution_count": 16,
   "metadata": {},
   "outputs": [],
   "source": [
    "   # for batch in loaders[0]:\n",
    "    \n",
    "        graph = Graph(x=batch.node_feature.numpy(), \n",
    "                                      edge_index=batch.edge_index.numpy(), y=batch.node_label.numpy())"
   ]
  },
  {
   "cell_type": "code",
   "execution_count": 21,
   "metadata": {},
   "outputs": [],
   "source": [
    "batch = graphs[0]\n",
    "graph = Graph(x=batch.node_feature.numpy(), \n",
    "                                      edge_index=batch.edge_index.numpy(), y=batch.node_label.numpy())"
   ]
  },
  {
   "cell_type": "code",
   "execution_count": 17,
   "metadata": {},
   "outputs": [
    {
     "data": {
      "text/plain": [
       "array([[0., 0., 0., ..., 0., 0., 0.],\n",
       "       [0., 0., 0., ..., 0., 0., 0.],\n",
       "       [0., 0., 0., ..., 0., 0., 0.],\n",
       "       ...,\n",
       "       [0., 0., 0., ..., 0., 0., 0.],\n",
       "       [0., 0., 0., ..., 0., 0., 0.],\n",
       "       [0., 0., 0., ..., 0., 0., 0.]], dtype=float32)"
      ]
     },
     "execution_count": 17,
     "metadata": {},
     "output_type": "execute_result"
    }
   ],
   "source": [
    "graph.x"
   ]
  },
  {
   "cell_type": "code",
   "execution_count": 16,
   "metadata": {},
   "outputs": [
    {
     "data": {
      "text/plain": [
       "array([[0., 0., 0., ..., 0., 0., 0.],\n",
       "       [0., 0., 0., ..., 0., 0., 0.],\n",
       "       [0., 0., 0., ..., 0., 0., 0.],\n",
       "       ...,\n",
       "       [0., 0., 0., ..., 0., 0., 0.],\n",
       "       [0., 0., 0., ..., 0., 0., 0.],\n",
       "       [0., 0., 0., ..., 0., 0., 0.]], dtype=float32)"
      ]
     },
     "execution_count": 16,
     "metadata": {},
     "output_type": "execute_result"
    }
   ],
   "source": [
    "graph.x"
   ]
  },
  {
   "cell_type": "code",
   "execution_count": 24,
   "metadata": {},
   "outputs": [
    {
     "data": {
      "text/plain": [
       "Graph Shape: x => (2708, 1433)\tedge_index => (2, 10556)\ty => (2708,)"
      ]
     },
     "execution_count": 24,
     "metadata": {},
     "output_type": "execute_result"
    }
   ],
   "source": [
    "graph"
   ]
  },
  {
   "cell_type": "code",
   "execution_count": 17,
   "metadata": {},
   "outputs": [
    {
     "data": {
      "text/plain": [
       "array([3, 4, 4, ..., 3, 3, 3], dtype=int32)"
      ]
     },
     "execution_count": 17,
     "metadata": {},
     "output_type": "execute_result"
    }
   ],
   "source": [
    "graph.y"
   ]
  },
  {
   "cell_type": "code",
   "execution_count": 84,
   "metadata": {},
   "outputs": [
    {
     "data": {
      "text/plain": [
       "array([[   0,    0,    0, ..., 2688, 2695, 2707],\n",
       "       [ 633, 1862, 2582, ..., 2687, 2694, 2706]], dtype=int32)"
      ]
     },
     "execution_count": 84,
     "metadata": {},
     "output_type": "execute_result"
    }
   ],
   "source": [
    "graph.edge_index"
   ]
  },
  {
   "cell_type": "code",
   "execution_count": 18,
   "metadata": {},
   "outputs": [
    {
     "data": {
      "text/plain": [
       "array([[   0,    0,    0, ..., 2688, 2695, 2707],\n",
       "       [ 633, 1862, 2582, ..., 2687, 2694, 2706]], dtype=int32)"
      ]
     },
     "execution_count": 18,
     "metadata": {},
     "output_type": "execute_result"
    }
   ],
   "source": [
    "graph.edge_index"
   ]
  },
  {
   "cell_type": "code",
   "execution_count": 78,
   "metadata": {},
   "outputs": [
    {
     "data": {
      "text/plain": [
       "array([[   0,    0,    0, ..., 2688, 2695, 2707],\n",
       "       [ 633, 1862, 2582, ..., 2687, 2694, 2706]], dtype=int32)"
      ]
     },
     "execution_count": 78,
     "metadata": {},
     "output_type": "execute_result"
    }
   ],
   "source": [
    "graph.edge_index"
   ]
  },
  {
   "cell_type": "code",
   "execution_count": 14,
   "metadata": {},
   "outputs": [
    {
     "data": {
      "text/plain": [
       "array([1., 1., 1., ..., 1., 1., 1.], dtype=float32)"
      ]
     },
     "execution_count": 14,
     "metadata": {},
     "output_type": "execute_result"
    }
   ],
   "source": [
    "graph.edge_weight"
   ]
  },
  {
   "cell_type": "code",
   "execution_count": 23,
   "metadata": {},
   "outputs": [
    {
     "data": {
      "text/plain": [
       "array([3, 4, 4, ..., 3, 3, 3])"
      ]
     },
     "execution_count": 23,
     "metadata": {},
     "output_type": "execute_result"
    }
   ],
   "source": [
    "graph.y"
   ]
  },
  {
   "cell_type": "code",
   "execution_count": null,
   "metadata": {},
   "outputs": [],
   "source": []
  },
  {
   "cell_type": "code",
   "execution_count": null,
   "metadata": {},
   "outputs": [],
   "source": []
  },
  {
   "cell_type": "code",
   "execution_count": 1,
   "metadata": {},
   "outputs": [
    {
     "ename": "NameError",
     "evalue": "name 'tf' is not defined",
     "output_type": "error",
     "traceback": [
      "\u001b[0;31m---------------------------------------------------------------------------\u001b[0m",
      "\u001b[0;31mNameError\u001b[0m                                 Traceback (most recent call last)",
      "\u001b[0;32m/tmp/ipykernel_23670/2525197654.py\u001b[0m in \u001b[0;36m<module>\u001b[0;34m\u001b[0m\n\u001b[1;32m      6\u001b[0m \u001b[0;34m\u001b[0m\u001b[0m\n\u001b[1;32m      7\u001b[0m \u001b[0;31m# Multi-layer GCN Model\u001b[0m\u001b[0;34m\u001b[0m\u001b[0;34m\u001b[0m\u001b[0;34m\u001b[0m\u001b[0m\n\u001b[0;32m----> 8\u001b[0;31m \u001b[0;32mclass\u001b[0m \u001b[0mGCNModel\u001b[0m\u001b[0;34m(\u001b[0m\u001b[0mtf\u001b[0m\u001b[0;34m.\u001b[0m\u001b[0mkeras\u001b[0m\u001b[0;34m.\u001b[0m\u001b[0mModel\u001b[0m\u001b[0;34m)\u001b[0m\u001b[0;34m:\u001b[0m\u001b[0;34m\u001b[0m\u001b[0;34m\u001b[0m\u001b[0m\n\u001b[0m\u001b[1;32m      9\u001b[0m \u001b[0;34m\u001b[0m\u001b[0m\n\u001b[1;32m     10\u001b[0m     \u001b[0;32mdef\u001b[0m \u001b[0m__init__\u001b[0m\u001b[0;34m(\u001b[0m\u001b[0mself\u001b[0m\u001b[0;34m,\u001b[0m \u001b[0;34m*\u001b[0m\u001b[0margs\u001b[0m\u001b[0;34m,\u001b[0m \u001b[0;34m**\u001b[0m\u001b[0mkwargs\u001b[0m\u001b[0;34m)\u001b[0m\u001b[0;34m:\u001b[0m\u001b[0;34m\u001b[0m\u001b[0;34m\u001b[0m\u001b[0m\n",
      "\u001b[0;31mNameError\u001b[0m: name 'tf' is not defined"
     ]
    }
   ],
   "source": [
    "\n",
    "num_classes = 7\n",
    "drop_rate = 0\n",
    "learning_rate = 1e-3\n",
    "\n",
    "#train_index, valid_index, test_index = loaders[0].node_label_index,loaders[1].node_label_index,loaders[2].node_label_index\n",
    "\n",
    "# Multi-layer GCN Model\n",
    "class GCNModel(tf.keras.Model):\n",
    "\n",
    "    def __init__(self, *args, **kwargs):\n",
    "        super().__init__(*args, **kwargs)\n",
    "        self.gcn0 = tfg.layers.GCN(16, activation=tf.nn.relu)\n",
    "        self.gcn1 = tfg.layers.GCN(num_classes)\n",
    "        self.dropout = tf.keras.layers.Dropout(drop_rate)\n",
    "\n",
    "    def call(self, inputs, training=None, mask=None, cache=None):\n",
    "        x, edge_index, edge_weight = inputs\n",
    "        h = self.dropout(x, training=training)\n",
    "        h = self.gcn0([h, edge_index, edge_weight], cache=cache)\n",
    "        h = self.dropout(h, training=training)\n",
    "        h = self.gcn1([h, edge_index, edge_weight], cache=cache)\n",
    "        return h\n",
    "\n",
    "\n",
    "model = GCNModel()\n",
    "\n",
    "\n",
    "# @tf_utils.function can speed up functions for TensorFlow 2.x.\n",
    "# @tf_utils.function is not compatible with TensorFlow 1.x and dynamic graph.cache.\n",
    "@tf_utils.function\n",
    "def forward(graph, training=False):\n",
    "    return model([graph.x, graph.edge_index, graph.edge_weight], training=training)\n",
    "    \n",
    "\n",
    "# The following line is only necessary for using GCN with @tf_utils.function\n",
    "# For usage without @tf_utils.function, you can commont the following line and GCN layers can automatically manager the cache\n",
    "#model.gcn0.build_cache_for_graph(graph)\n",
    "\n",
    "\n",
    "@tf_utils.function\n",
    "def compute_loss(logits,mask_index,labels, vars):\n",
    "    masked_logits = tf.gather(logits, mask_index)\n",
    "    #masked_labels = tf.gather(graph.y, mask_index)\n",
    "    #labels = tf.gather(graph.y, mask_index)\n",
    "    \n",
    "    losses = tf.nn.softmax_cross_entropy_with_logits(\n",
    "        logits=masked_logits,\n",
    "        labels=tf.one_hot(tf.convert_to_tensor(labels), depth=num_classes)\n",
    "    )\n",
    "\n",
    "    kernel_vars = [var for var in vars if \"kernel\" in var.name]\n",
    "    l2_losses = [tf.nn.l2_loss(kernel_var) for kernel_var in kernel_vars]\n",
    "\n",
    "    return tf.reduce_mean(losses) + tf.add_n(l2_losses) * 5e-4\n",
    "\n",
    "\n",
    "optimizer = tf.keras.optimizers.Adam(learning_rate=learning_rate)\n",
    "\n",
    "\n",
    "@tf_utils.function\n",
    "def train_step():\n",
    "    loss_s = 0\n",
    "    for batch in loaders[0]:\n",
    "        graph = Graph(x=batch.node_feature.numpy(), edge_index=batch.edge_index.numpy(), y=batch.node_label.numpy())\n",
    "        with tf.GradientTape() as tape:\n",
    "            logits = forward(graph, training=True)\n",
    "            #print(logits)\n",
    "            loss = compute_loss(logits,batch.node_label_index,batch.node_label, tape.watched_variables())\n",
    "\n",
    "            vars = tape.watched_variables()\n",
    "            grads = tape.gradient(loss, vars)\n",
    "            optimizer.apply_gradients(zip(grads, vars))\n",
    "        loss_s += loss\n",
    "    return loss_s\n",
    "\n",
    "\n",
    "\n",
    "@tf_utils.function\n",
    "def evaluate():\n",
    "    accuracy_sum = 0\n",
    "    for batch in loaders[2]:\n",
    "        graph = Graph(x=batch.node_feature.numpy(), \n",
    "                                      edge_index=batch.edge_index.numpy(), y=batch.node_label.numpy())    \n",
    "        logits = forward(graph)\n",
    "        masked_logits = tf.gather(logits, batch.node_label_index)\n",
    "        #masked_labels = tf.gather(graph.y, test_index)\n",
    "\n",
    "        y_pred = tf.argmax(masked_logits, axis=-1, output_type=tf.int32)\n",
    "        masked_labels = tf.cast(batch.node_label, y_pred.dtype)\n",
    "        print(y_pred)\n",
    "        print(masked_labels)\n",
    "        corrects = tf.equal(y_pred, masked_labels)\n",
    "        accuracy = tf.reduce_mean(tf.cast(corrects, tf.float32))\n",
    "        accuracy_sum += accuracy\n",
    "    accuracy = accuracy_sum / len(loaders[1])\n",
    "    return accuracy\n",
    "\n",
    "\n",
    "for step in range(1, 201):\n",
    "    loss = train_step()\n",
    "    if step % 20 == 0:\n",
    "        accuracy = evaluate()\n",
    "        print(\"step = {}\\tloss = {}\\taccuracy = {}\".format(step, loss, accuracy))\n",
    "\n",
    "print(\"\\nstart speed test...\")\n",
    "num_test_iterations = 1000\n",
    "start_time = time.time()\n",
    "for _ in tqdm(range(num_test_iterations)):\n",
    "    logits = forward(graph)\n",
    "end_time = time.time()\n",
    "print(\"mean forward time: {} seconds\".format((end_time - start_time) / num_test_iterations))\n",
    "\n",
    "\n"
   ]
  },
  {
   "cell_type": "code",
   "execution_count": 2,
   "metadata": {},
   "outputs": [
    {
     "data": {
      "text/plain": [
       "'results'"
      ]
     },
     "execution_count": 2,
     "metadata": {},
     "output_type": "execute_result"
    }
   ],
   "source": []
  },
  {
   "cell_type": "code",
   "execution_count": 3,
   "metadata": {},
   "outputs": [
    {
     "data": {
      "text/plain": [
       "'/home/zhihao/Document/GraphGym/GraphGym'"
      ]
     },
     "execution_count": 3,
     "metadata": {},
     "output_type": "execute_result"
    }
   ],
   "source": [
    "pwd"
   ]
  },
  {
   "cell_type": "code",
   "execution_count": 1,
   "metadata": {
    "tags": []
   },
   "outputs": [
    {
     "name": "stdout",
     "output_type": "stream",
     "text": [
      "GPU Mem: [2498]\n",
      "GPU Prob: [1.]\n",
      "Random select GPU, select GPU 0 with mem: 2498\n",
      "TU_ENZYMES\n",
      "node_clustering_coefficient_label dimensions are collapsed due to balanced binning\n",
      "Load: 0.1567s, Before split: 0.1803s, Split: 0.0001092s, After split: 3.815e-06s\n",
      "Start from epoch 0\n"
     ]
    },
    {
     "name": "stderr",
     "output_type": "stream",
     "text": [
      "2021-10-26 23:39:32.691821: I tensorflow/core/platform/cpu_feature_guard.cc:142] This TensorFlow binary is optimized with oneAPI Deep Neural Network Library (oneDNN) to use the following CPU instructions in performance-critical operations:  AVX2 AVX512F FMA\n",
      "To enable them in other operations, rebuild TensorFlow with the appropriate compiler flags.\n",
      "2021-10-26 23:39:36.116964: I tensorflow/core/common_runtime/gpu/gpu_device.cc:1510] Created device /job:localhost/replica:0/task:0/device:GPU:0 with 6265 MB memory:  -> device: 0, name: NVIDIA GeForce RTX 2080 Ti, pci bus id: 0000:18:00.0, compute capability: 7.5\n"
     ]
    },
    {
     "name": "stdout",
     "output_type": "stream",
     "text": [
      "epoch 0, acc:0.35052910447120667\n",
      "epoch 9, acc:0.39153438806533813\n",
      "epoch 19, acc:0.41534391045570374\n",
      "epoch 29, acc:0.4404761791229248\n",
      "epoch 39, acc:0.4563491940498352\n",
      "epoch 49, acc:0.4285714328289032\n",
      "epoch 59, acc:0.5343915224075317\n",
      "epoch 69, acc:0.5714285969734192\n",
      "epoch 79, acc:0.6269841194152832\n",
      "epoch 89, acc:0.5132275223731995\n",
      "epoch 99, acc:0.5410053133964539\n",
      "epoch 109, acc:0.6455026268959045\n",
      "epoch 119, acc:0.6111111044883728\n",
      "epoch 129, acc:0.6428571343421936\n",
      "epoch 139, acc:0.6613756418228149\n",
      "epoch 149, acc:0.6679894328117371\n",
      "epoch 159, acc:0.5978835821151733\n",
      "epoch 169, acc:0.5648148059844971\n",
      "epoch 179, acc:0.6653439402580261\n",
      "epoch 189, acc:0.6640211343765259\n",
      "epoch 199, acc:0.6679894328117371\n",
      "epoch 209, acc:0.6547619104385376\n",
      "epoch 219, acc:0.6626983880996704\n",
      "epoch 229, acc:0.6812169551849365\n",
      "epoch 239, acc:0.6309523582458496\n",
      "epoch 249, acc:0.682539701461792\n",
      "epoch 259, acc:0.6891534328460693\n",
      "epoch 269, acc:0.6957672238349915\n",
      "epoch 279, acc:0.6917989253997803\n",
      "epoch 289, acc:0.7023809552192688\n",
      "epoch 299, acc:0.570105791091919\n",
      "epoch 309, acc:0.6851851940155029\n",
      "epoch 319, acc:0.6759259104728699\n",
      "epoch 329, acc:0.7010582089424133\n",
      "epoch 339, acc:0.6944444179534912\n",
      "epoch 349, acc:0.7023809552192688\n",
      "epoch 359, acc:0.6997354626655579\n",
      "epoch 369, acc:0.6891534328460693\n",
      "epoch 379, acc:0.6984127163887024\n",
      "epoch 389, acc:0.5859788656234741\n",
      "epoch 399, acc:0.6322751045227051\n",
      "epoch 409, acc:0.6666666865348816\n",
      "epoch 419, acc:0.6613756418228149\n",
      "epoch 429, acc:0.7208994626998901\n",
      "epoch 439, acc:0.7063491940498352\n",
      "epoch 449, acc:0.6785714030265808\n",
      "epoch 459, acc:0.6970899701118469\n",
      "epoch 469, acc:0.7116402387619019\n",
      "epoch 479, acc:0.6653439402580261\n",
      "epoch 489, acc:0.7023809552192688\n",
      "epoch 499, acc:0.6957672238349915\n",
      "epoch 509, acc:0.7222222089767456\n",
      "epoch 519, acc:0.7328042387962341\n",
      "epoch 529, acc:0.6164020895957947\n",
      "epoch 539, acc:0.6600528955459595\n",
      "epoch 549, acc:0.7089946866035461\n",
      "epoch 559, acc:0.7169312238693237\n",
      "epoch 569, acc:0.7103174328804016\n",
      "epoch 579, acc:0.738095223903656\n",
      "epoch 589, acc:0.7129629850387573\n",
      "epoch 599, acc:0.682539701461792\n",
      "epoch 609, acc:0.7354497313499451\n",
      "epoch 619, acc:0.7010582089424133\n",
      "epoch 629, acc:0.6997354626655579\n",
      "epoch 639, acc:0.6772486567497253\n",
      "epoch 649, acc:0.6666666865348816\n",
      "epoch 659, acc:0.7169312238693237\n",
      "epoch 669, acc:0.7248677015304565\n",
      "epoch 679, acc:0.7169312238693237\n",
      "epoch 689, acc:0.7182539701461792\n",
      "epoch 699, acc:0.658730149269104\n",
      "epoch 709, acc:0.679894208908081\n",
      "epoch 719, acc:0.6865079402923584\n",
      "epoch 729, acc:0.7341269850730896\n",
      "epoch 739, acc:0.7341269850730896\n",
      "epoch 749, acc:0.7195767164230347\n",
      "epoch 759, acc:0.7235449552536011\n",
      "epoch 769, acc:0.7208994626998901\n",
      "epoch 779, acc:0.579365074634552\n",
      "epoch 789, acc:0.6917989253997803\n",
      "epoch 799, acc:0.7037037014961243\n",
      "epoch 809, acc:0.7182539701461792\n",
      "epoch 819, acc:0.7354497313499451\n",
      "epoch 829, acc:0.7420634627342224\n",
      "epoch 839, acc:0.7169312238693237\n",
      "epoch 849, acc:0.7063491940498352\n",
      "epoch 859, acc:0.7447090148925781\n",
      "epoch 869, acc:0.6904761791229248\n",
      "epoch 879, acc:0.7394179701805115\n",
      "epoch 889, acc:0.7301587462425232\n",
      "epoch 899, acc:0.7116402387619019\n",
      "epoch 909, acc:0.7275132536888123\n",
      "epoch 919, acc:0.7394179701805115\n",
      "epoch 929, acc:0.7023809552192688\n",
      "epoch 939, acc:0.6957672238349915\n",
      "epoch 949, acc:0.7222222089767456\n",
      "epoch 959, acc:0.7328042387962341\n",
      "epoch 969, acc:0.6970899701118469\n",
      "epoch 979, acc:0.7222222089767456\n",
      "epoch 989, acc:0.6851851940155029\n",
      "epoch 999, acc:0.6904761791229248\n",
      "Task done, results saved in results\n",
      "The best validation accuracy is 0.7447090148925781, the epoch is 860\n",
      "TU_ENZYMES\n",
      "node_clustering_coefficient_label dimensions are collapsed due to balanced binning\n",
      "Load: 0.4248s, Before split: 0.1709s, Split: 0.0001051s, After split: 4.292e-06s\n",
      "Start from epoch 0\n",
      "epoch 0, acc:0.2626132071018219\n",
      "epoch 9, acc:0.2897800803184509\n",
      "epoch 19, acc:0.3040103614330292\n",
      "epoch 29, acc:0.3479948341846466\n",
      "epoch 39, acc:0.4411384165287018\n",
      "epoch 49, acc:0.3880983293056488\n",
      "epoch 59, acc:0.48382923007011414\n",
      "epoch 69, acc:0.45924967527389526\n",
      "epoch 79, acc:0.4579560160636902\n",
      "epoch 89, acc:0.49417853355407715\n",
      "epoch 99, acc:0.46054333448410034\n",
      "epoch 109, acc:0.5148770809173584\n",
      "epoch 119, acc:0.48253557085990906\n",
      "epoch 129, acc:0.5135834217071533\n",
      "epoch 139, acc:0.49288487434387207\n",
      "epoch 149, acc:0.565329909324646\n",
      "epoch 159, acc:0.529107391834259\n",
      "epoch 169, acc:0.5510995984077454\n",
      "epoch 179, acc:0.5394566655158997\n",
      "epoch 189, acc:0.5627425909042358\n",
      "epoch 199, acc:0.5666235685348511\n",
      "epoch 209, acc:0.37904268503189087\n",
      "epoch 219, acc:0.5860284566879272\n",
      "epoch 229, acc:0.5666235685348511\n",
      "epoch 239, acc:0.5510995984077454\n",
      "epoch 249, acc:0.5847347974777222\n",
      "epoch 259, acc:0.5886157751083374\n",
      "epoch 269, acc:0.5498059391975403\n",
      "epoch 279, acc:0.5627425909042358\n",
      "epoch 289, acc:0.5912030935287476\n",
      "epoch 299, acc:0.4385510981082916\n",
      "epoch 309, acc:0.4411384165287018\n",
      "epoch 319, acc:0.5756791830062866\n",
      "epoch 329, acc:0.5795601606369019\n",
      "epoch 339, acc:0.5963777303695679\n",
      "epoch 349, acc:0.6119017004966736\n",
      "epoch 359, acc:0.618369996547699\n",
      "epoch 369, acc:0.5860284566879272\n",
      "epoch 379, acc:0.5329883694648743\n",
      "epoch 389, acc:0.5239327549934387\n",
      "epoch 399, acc:0.6157826781272888\n",
      "epoch 409, acc:0.5950840711593628\n",
      "epoch 419, acc:0.6170763373374939\n",
      "epoch 429, acc:0.6261319518089294\n",
      "epoch 439, acc:0.6131953597068787\n",
      "epoch 449, acc:0.5523932576179504\n",
      "epoch 459, acc:0.6235446333885193\n",
      "epoch 469, acc:0.6054334044456482\n",
      "epoch 479, acc:0.6157826781272888\n",
      "epoch 489, acc:0.6119017004966736\n",
      "epoch 499, acc:0.5109961032867432\n",
      "epoch 509, acc:0.5756791830062866\n",
      "epoch 519, acc:0.5963777303695679\n",
      "epoch 529, acc:0.6170763373374939\n",
      "epoch 539, acc:0.6235446333885193\n",
      "epoch 549, acc:0.6261319518089294\n",
      "epoch 559, acc:0.6248382925987244\n",
      "epoch 569, acc:0.5743855237960815\n",
      "epoch 579, acc:0.6157826781272888\n",
      "epoch 589, acc:0.6209573149681091\n",
      "epoch 599, acc:0.6261319518089294\n",
      "epoch 609, acc:0.5899094343185425\n",
      "epoch 619, acc:0.6287192702293396\n",
      "epoch 629, acc:0.6235446333885193\n",
      "epoch 639, acc:0.6119017004966736\n",
      "epoch 649, acc:0.619663655757904\n",
      "epoch 659, acc:0.6131953597068787\n",
      "epoch 669, acc:0.6377748847007751\n",
      "epoch 679, acc:0.6377748847007751\n",
      "epoch 689, acc:0.6261319518089294\n",
      "epoch 699, acc:0.6364812254905701\n",
      "epoch 709, acc:0.5847347974777222\n",
      "epoch 719, acc:0.6170763373374939\n",
      "epoch 729, acc:0.6248382925987244\n",
      "epoch 739, acc:0.6248382925987244\n",
      "epoch 749, acc:0.6131953597068787\n",
      "epoch 759, acc:0.5174643993377686\n",
      "epoch 769, acc:0.6106080412864685\n",
      "epoch 779, acc:0.6248382925987244\n",
      "epoch 789, acc:0.6300129294395447\n",
      "epoch 799, acc:0.6390685439109802\n",
      "epoch 809, acc:0.6481242179870605\n",
      "epoch 819, acc:0.6442431807518005\n",
      "epoch 829, acc:0.5756791830062866\n",
      "epoch 839, acc:0.6507115364074707\n",
      "epoch 849, acc:0.6532988548278809\n",
      "epoch 859, acc:0.6326002478599548\n",
      "epoch 869, acc:0.6403622031211853\n",
      "epoch 879, acc:0.635187566280365\n",
      "epoch 889, acc:0.6338939070701599\n",
      "epoch 899, acc:0.6313065886497498\n",
      "epoch 909, acc:0.6597671508789062\n",
      "epoch 919, acc:0.6610608100891113\n",
      "epoch 929, acc:0.6597671508789062\n",
      "epoch 939, acc:0.4967658519744873\n",
      "epoch 949, acc:0.5588615536689758\n",
      "epoch 959, acc:0.6144890189170837\n",
      "epoch 969, acc:0.6326002478599548\n",
      "epoch 979, acc:0.6507115364074707\n",
      "epoch 989, acc:0.6429495215415955\n",
      "epoch 999, acc:0.6636481285095215\n",
      "Task done, results saved in results\n",
      "The best validation accuracy is 0.6636481285095215, the epoch is 1000\n",
      "TU_ENZYMES\n",
      "node_clustering_coefficient_label dimensions are collapsed due to balanced binning\n",
      "Load: 0.1413s, Before split: 0.1704s, Split: 9.131e-05s, After split: 4.053e-06s\n",
      "Start from epoch 0\n",
      "epoch 0, acc:0.4796030819416046\n",
      "epoch 9, acc:0.482910692691803\n",
      "epoch 19, acc:0.5292171835899353\n",
      "epoch 29, acc:0.5633957982063293\n",
      "epoch 39, acc:0.48511576652526855\n",
      "epoch 49, acc:0.554575502872467\n",
      "epoch 59, acc:0.6074972152709961\n",
      "epoch 69, acc:0.6361631751060486\n",
      "epoch 79, acc:0.649393618106842\n",
      "epoch 89, acc:0.6736493706703186\n",
      "epoch 99, acc:0.6692392230033875\n",
      "epoch 109, acc:0.668136715888977\n",
      "epoch 119, acc:0.6802645921707153\n",
      "epoch 129, acc:0.6934950351715088\n",
      "epoch 139, acc:0.3351708948612213\n",
      "epoch 149, acc:0.5975744128227234\n",
      "epoch 159, acc:0.6538037657737732\n",
      "epoch 169, acc:0.6957001090049744\n",
      "epoch 179, acc:0.694597601890564\n",
      "epoch 189, acc:0.7023153305053711\n",
      "epoch 199, acc:0.6979051828384399\n",
      "epoch 209, acc:0.6990076899528503\n",
      "epoch 219, acc:0.7100330591201782\n",
      "epoch 229, acc:0.7089305520057678\n",
      "epoch 239, acc:0.6725468635559082\n",
      "epoch 249, acc:0.6626240611076355\n",
      "epoch 259, acc:0.7034178376197815\n",
      "epoch 269, acc:0.7067254781723022\n",
      "epoch 279, acc:0.7210584282875061\n",
      "epoch 289, acc:0.517089307308197\n",
      "epoch 299, acc:0.6791620850563049\n",
      "epoch 309, acc:0.6890848875045776\n",
      "epoch 319, acc:0.7199559211730957\n",
      "epoch 329, acc:0.7210584282875061\n",
      "epoch 339, acc:0.7254685759544373\n",
      "epoch 349, acc:0.7342888712882996\n",
      "epoch 359, acc:0.7298787236213684\n",
      "epoch 369, acc:0.7276736497879028\n",
      "epoch 379, acc:0.7342888712882996\n",
      "epoch 389, acc:0.7364939451217651\n",
      "epoch 399, acc:0.7364939451217651\n",
      "epoch 409, acc:0.7386990189552307\n",
      "epoch 419, acc:0.7342888712882996\n",
      "epoch 429, acc:0.732083797454834\n",
      "epoch 439, acc:0.7309812307357788\n",
      "epoch 449, acc:0.6736493706703186\n",
      "epoch 459, acc:0.7464167475700378\n",
      "epoch 469, acc:0.7298787236213684\n",
      "epoch 479, acc:0.7486218214035034\n",
      "epoch 489, acc:0.7497243881225586\n",
      "epoch 499, acc:0.7519294619560242\n",
      "epoch 509, acc:0.7188533544540405\n",
      "epoch 519, acc:0.7497243881225586\n",
      "epoch 529, acc:0.7442116737365723\n",
      "epoch 539, acc:0.747519314289093\n",
      "epoch 549, acc:0.7607496976852417\n",
      "epoch 559, acc:0.750826895236969\n",
      "epoch 569, acc:0.747519314289093\n",
      "epoch 579, acc:0.7375964522361755\n",
      "epoch 589, acc:0.7519294619560242\n",
      "epoch 599, acc:0.6604189872741699\n",
      "epoch 609, acc:0.7034178376197815\n",
      "epoch 619, acc:0.7386990189552307\n",
      "epoch 629, acc:0.7398015260696411\n",
      "epoch 639, acc:0.7618522644042969\n",
      "epoch 649, acc:0.7596471905708313\n",
      "epoch 659, acc:0.7651598453521729\n",
      "epoch 669, acc:0.7486218214035034\n",
      "epoch 679, acc:0.7442116737365723\n",
      "epoch 689, acc:0.7574421167373657\n",
      "epoch 699, acc:0.750826895236969\n",
      "epoch 709, acc:0.7386990189552307\n",
      "epoch 719, acc:0.7188533544540405\n",
      "epoch 729, acc:0.7519294619560242\n",
      "epoch 739, acc:0.747519314289093\n",
      "epoch 749, acc:0.7530319690704346\n",
      "epoch 759, acc:0.7596471905708313\n",
      "epoch 769, acc:0.7034178376197815\n",
      "epoch 779, acc:0.7398015260696411\n",
      "epoch 789, acc:0.7541345357894897\n",
      "epoch 799, acc:0.7563396096229553\n",
      "epoch 809, acc:0.7629547715187073\n",
      "epoch 819, acc:0.7464167475700378\n",
      "epoch 829, acc:0.7585446238517761\n",
      "epoch 839, acc:0.7541345357894897\n",
      "epoch 849, acc:0.7673649191856384\n",
      "epoch 859, acc:0.7618522644042969\n",
      "epoch 869, acc:0.7629547715187073\n",
      "epoch 879, acc:0.7651598453521729\n",
      "epoch 889, acc:0.7420065999031067\n",
      "epoch 899, acc:0.7453142404556274\n",
      "epoch 909, acc:0.7629547715187073\n",
      "epoch 919, acc:0.7585446238517761\n",
      "epoch 929, acc:0.7364939451217651\n",
      "epoch 939, acc:0.750826895236969\n",
      "epoch 949, acc:0.7607496976852417\n",
      "epoch 959, acc:0.7574421167373657\n",
      "epoch 969, acc:0.7541345357894897\n",
      "epoch 979, acc:0.769569993019104\n",
      "epoch 989, acc:0.7629547715187073\n",
      "epoch 999, acc:0.769569993019104\n",
      "Task done, results saved in results\n",
      "The best validation accuracy is 0.769569993019104, the epoch is 980\n",
      "The average validation accuracy of 3 rounds is: 0.7259756922721863\n"
     ]
    }
   ],
   "source": [
    "import os\n",
    "import random\n",
    "import numpy as np\n",
    "import torch\n",
    "import logging\n",
    "\n",
    "#from GraphGym.graphgym.cmd_args import parse_args\n",
    "from graphgym.config import (cfg, assert_cfg, dump_cfg,\n",
    "                  update_out_dir, get_parent_dir)\n",
    "from graphgym.loader import create_dataset, create_loader\n",
    "from graphgym.logger import setup_printing, create_logger\n",
    "from graphgym.optimizer import create_optimizer, create_scheduler\n",
    "from graphgym.model_builder import create_model\n",
    "from graphgym.train import train\n",
    "from graphgym.utils.agg_runs import agg_runs\n",
    "from graphgym.utils.comp_budget import params_count\n",
    "from graphgym.utils.device import auto_select_device\n",
    "from graphgym.register import train_dict\n",
    "\n",
    "import tensorflow as tf\n",
    "import tf_geometric as tfg\n",
    "\n",
    "repeat = 3\n",
    "\n",
    "\n",
    "#class GCNModel(tf.keras.Model):\n",
    "#\n",
    "#    def __init__(self, *args, **kwargs):\n",
    "#        super().__init__(*args, **kwargs)\n",
    "#        self.gcn0 = tfg.layers.GCN(128, activation=tf.nn.relu)\n",
    "#        self.gcn1 = tfg.layers.GCN(datasets[0].num_labels)\n",
    "#        #self.dropout = tf.keras.layers.Dropout(drop_rate)\n",
    "#\n",
    "#    def call(self, inputs, training=None, mask=None, cache=None):\n",
    "#        x, edge_index, edge_weight = inputs\n",
    "#        #h = self.dropout(x, training=training)\n",
    "#        h = self.gcn0([x, edge_index, edge_weight], cache=cache)\n",
    "#        #h = self.dropout(h, training=training)\n",
    "#        h = self.gcn1([h, edge_index, edge_weight], cache=cache)\n",
    "#        return h\n",
    "#class GATModel(tf.keras.Model):\n",
    "#\n",
    "#    def __init__(self, *args, **kwargs):\n",
    "#        super().__init__(*args, **kwargs)\n",
    "#        self.gat0 = tfg.layers.GAT(128, activation=tf.nn.relu, num_heads=8, attention_units=8, drop_rate=0)\n",
    "#        self.gat1 = tfg.layers.GAT(datasets[0].num_labels, num_heads=1, attention_units=1, drop_rate=0)\n",
    "#\n",
    "#\n",
    "#    def call(self, inputs, training=None, mask=None, cache=None):\n",
    "#        x, edge_index,_ = inputs\n",
    "#        h = self.gat0([x, edge_index], training=training)\n",
    "#        h = self.gat1([h, edge_index], training=training)\n",
    "#        return h\n",
    "\n",
    "\n",
    "\n",
    "\n",
    "\n",
    "class GCNModel(tf.keras.Model):\n",
    "\n",
    "    def __init__(self, *args, **kwargs):\n",
    "        super().__init__(*args, **kwargs)\n",
    "        self.gcn0 = tfg.layers.GCN(128, activation=tf.nn.relu)\n",
    "        self.gcn1 = tfg.layers.GCN(128, activation=tf.nn.relu)\n",
    "        self.gcn2 = tfg.layers.GCN(128, activation=tf.nn.relu)\n",
    "        self.mlp = tf.keras.models.Sequential([tf.keras.layers.Flatten()\n",
    "                                               ,tf.keras.layers.Dense(256, activation='relu')\n",
    "                                               ,tf.keras.layers.Dense(datasets[0].num_labels)])\n",
    "\n",
    "    def call(self, inputs, training=None, mask=None, cache=None):\n",
    "        x, edge_index, edge_weight = inputs\n",
    "        h = self.gcn0([x, edge_index, edge_weight], cache=cache)  \n",
    "        h = self.gcn1([h, edge_index, edge_weight], cache=cache)\n",
    "        h = self.gcn2([h, edge_index, edge_weight], cache=cache)\n",
    "        h = self.mlp(h)\n",
    "        return h\n",
    "    \n",
    "    \n",
    "class GATModel(tf.keras.Model):\n",
    "\n",
    "    def __init__(self, *args, **kwargs):\n",
    "        super().__init__(*args, **kwargs)\n",
    "        self.gat0 = tfg.layers.GAT(128, activation=tf.nn.relu)\n",
    "        self.gat1 = tfg.layers.GAT(128, activation=tf.nn.relu)\n",
    "        self.gat2 = tfg.layers.GAT(128, activation=tf.nn.relu)\n",
    "        self.mlp = tf.keras.models.Sequential([tf.keras.layers.Flatten()\n",
    "                                               ,tf.keras.layers.Dense(256, activation='relu')\n",
    "                                               ,tf.keras.layers.Dense(datasets[0].num_labels)])\n",
    "\n",
    "\n",
    "    def call(self, inputs, training=None, mask=None, cache=None):\n",
    "        x, edge_index,_ = inputs\n",
    "        h = self.gat0([x, edge_index], training=training)\n",
    "        h = self.gat1([h, edge_index], training=training)\n",
    "        h = self.gat2([h, edge_index], training=training)\n",
    "        h = self.mlp(h)\n",
    "        return h\n",
    "\n",
    "class APPNPModel(tf.keras.Model):\n",
    "\n",
    "    def __init__(self, *args, **kwargs):\n",
    "        super().__init__(*args, **kwargs)\n",
    "        self.appnp = tfg.layers.APPNP([64, datasets[0].num_labels], alpha=0.1, num_iterations=10,\n",
    "                                      dense_drop_rate=0, edge_drop_rate=0)\n",
    "        #self.dropout = tf.keras.layers.Dropout(drop_rate)\n",
    "\n",
    "    def call(self, inputs, training=None, mask=None, cache=None):\n",
    "        x, edge_index, edge_weight = inputs\n",
    "        #h = self.dropout(x, training=training)\n",
    "        h = self.appnp([x, edge_index, edge_weight], training=training, cache=cache)\n",
    "        return h\n",
    "\n",
    "    \n",
    "acc_lists = []\n",
    "max_acc = []\n",
    "for i in range(repeat):\n",
    "    # Load config file\n",
    "    cfg.merge_from_file('node.yaml')\n",
    "    #cfg.device = 'cuda'\n",
    "    #print(cfg.dataset.format)\n",
    "    #cfg.merge_from_list(args.opts)\n",
    "    assert_cfg(cfg)\n",
    "    # Set Pytorch environment\n",
    "    torch.set_num_threads(cfg.num_threads)\n",
    "    out_dir_parent = cfg.out_dir\n",
    "    cfg.seed = i + 1\n",
    "    random.seed(cfg.seed)\n",
    "    np.random.seed(cfg.seed)\n",
    "    torch.manual_seed(cfg.seed)\n",
    "    #update_out_dir(out_dir_parent, args.cfg_file)\n",
    "    dump_cfg(cfg)\n",
    "    setup_printing()\n",
    "    auto_select_device()\n",
    "    # Set learning environment\n",
    "    datasets = create_dataset()\n",
    "    loaders = create_loader(datasets)\n",
    "    meters = create_logger(datasets)\n",
    "    #model = create_model(datasets)\n",
    "    model = GCNModel(datasets)\n",
    "    #optimizer = create_optimizer(model.parameters())\n",
    "    optimizer = tf.keras.optimizers.Adam(learning_rate=cfg.optim.base_lr)\n",
    "    #print(cfg.optim.base_lr)\n",
    "    #scheduler = create_scheduler(optimizer)\n",
    "    #logging.info(model)\n",
    "    #logging.info(cfg)\n",
    "    cfg.params = 0\n",
    "    \n",
    "    #cfg.device = 'cuda'\n",
    "    #print(cfg.dataset.augment_label_dims)\n",
    "    #logging.info('Num parameters: {}'.format(cfg.params))    \n",
    "    \n",
    "    if cfg.train.mode == 'standard':\n",
    "        acc_list = train(meters, loaders, model, optimizer,datasets)\n",
    "        acc_lists.append(acc_list)\n",
    "        max_acc.append(max(acc_list))\n",
    "    else:\n",
    "        train_dict[cfg.train.mode](\n",
    "            meters, loaders, model, optimizer, scheduler)\n",
    "#np.savetxt('./' + cfg.out_dir+'/val'+'/middle'+f'/{cfg.gnn.layer_type}'+f'_{cfg.dataset.name}.txt', np.array(acc_lists))\n",
    "#np.savetxt('./' + cfg.out_dir+'/val'+'/final'+f'/{cfg.gnn.layer_type}'+f'_{cfg.dataset.name}_avg_acc.txt', np.array([np.mean(max_acc)]))\n",
    "print(f'The average validation accuracy of {repeat} rounds is: {np.mean(max_acc)}')"
   ]
  },
  {
   "cell_type": "code",
   "execution_count": 3,
   "metadata": {},
   "outputs": [
    {
     "data": {
      "text/plain": [
       "'Tfg-gcn'"
      ]
     },
     "execution_count": 3,
     "metadata": {},
     "output_type": "execute_result"
    }
   ],
   "source": [
    "cfg.gnn.layer_type"
   ]
  },
  {
   "cell_type": "code",
   "execution_count": 39,
   "metadata": {},
   "outputs": [
    {
     "data": {
      "text/plain": [
       "Graph(G=[], edge_index=[2, 210], edge_label_index=[2, 210], graph_label=[1], node_clustering_coefficient_label=[54], node_feature=[54, 3], node_identity=[54, 10], node_label=[54], node_label_index=[54], task=[])"
      ]
     },
     "execution_count": 39,
     "metadata": {},
     "output_type": "execute_result"
    }
   ],
   "source": [
    "datasets[0].graphs[8]"
   ]
  },
  {
   "cell_type": "code",
   "execution_count": 37,
   "metadata": {},
   "outputs": [
    {
     "data": {
      "text/plain": [
       "6"
      ]
     },
     "execution_count": 37,
     "metadata": {},
     "output_type": "execute_result"
    }
   ],
   "source": [
    "datasets[0].num_labels"
   ]
  },
  {
   "cell_type": "code",
   "execution_count": 26,
   "metadata": {},
   "outputs": [
    {
     "data": {
      "text/plain": [
       "Graph(G=[], edge_index=[2, 44], edge_label_index=[2, 44], graph_label=[1], node_clustering_coefficient_label=[12], node_feature=[12, 3], node_identity=[12, 10], node_label=[12], node_label_index=[12], task=[])"
      ]
     },
     "execution_count": 26,
     "metadata": {},
     "output_type": "execute_result"
    }
   ],
   "source": [
    "datasets[1].graphs[0]"
   ]
  },
  {
   "cell_type": "code",
   "execution_count": 12,
   "metadata": {},
   "outputs": [],
   "source": [
    "a = next(iter(loaders[0]))"
   ]
  },
  {
   "cell_type": "code",
   "execution_count": 13,
   "metadata": {},
   "outputs": [
    {
     "data": {
      "text/plain": [
       "Batch(G=[128], batch=[8192], edge_index=[2, 66462], edge_label_index=[2, 66462], node_clustering_coefficient_label=[8192], node_feature=[8192, 1], node_label=[6528], node_label_index=[6528], task=[128])"
      ]
     },
     "execution_count": 13,
     "metadata": {},
     "output_type": "execute_result"
    }
   ],
   "source": [
    "a"
   ]
  },
  {
   "cell_type": "code",
   "execution_count": 15,
   "metadata": {},
   "outputs": [
    {
     "data": {
      "text/plain": [
       "Batch(G=[128], batch=[8192], edge_index=[2, 75134], edge_label_index=[2, 75134], node_clustering_coefficient_label=[8192], node_feature=[8192, 1], node_label=[1664], node_label_index=[1664], task=[128])"
      ]
     },
     "execution_count": 15,
     "metadata": {},
     "output_type": "execute_result"
    }
   ],
   "source": [
    "next(iter(loaders[1]))"
   ]
  },
  {
   "cell_type": "code",
   "execution_count": null,
   "metadata": {},
   "outputs": [],
   "source": []
  },
  {
   "cell_type": "code",
   "execution_count": 126,
   "metadata": {},
   "outputs": [],
   "source": [
    "from GraphGym.graphgym.loader import load_dataset"
   ]
  },
  {
   "cell_type": "code",
   "execution_count": 127,
   "metadata": {},
   "outputs": [],
   "source": [
    "d = load_dataset()"
   ]
  },
  {
   "cell_type": "code",
   "execution_count": 156,
   "metadata": {},
   "outputs": [
    {
     "data": {
      "text/plain": [
       "GraphDataset(80)"
      ]
     },
     "execution_count": 156,
     "metadata": {},
     "output_type": "execute_result"
    }
   ],
   "source": [
    "datasets[0]"
   ]
  },
  {
   "cell_type": "code",
   "execution_count": 129,
   "metadata": {},
   "outputs": [
    {
     "data": {
      "text/plain": [
       "<networkx.classes.graph.Graph at 0x7f74e8340790>"
      ]
     },
     "execution_count": 129,
     "metadata": {},
     "output_type": "execute_result"
    }
   ],
   "source": [
    "d[0]"
   ]
  },
  {
   "cell_type": "code",
   "execution_count": 130,
   "metadata": {},
   "outputs": [],
   "source": [
    "from deepsnap.dataset import GraphDataset\n",
    "e = GraphDataset(\n",
    "        d,\n",
    "        task=cfg.dataset.task,\n",
    "        edge_train_mode=cfg.dataset.edge_train_mode,\n",
    "        edge_message_ratio=cfg.dataset.edge_message_ratio,\n",
    "        edge_negative_sampling_ratio=cfg.dataset.edge_negative_sampling_ratio,\n",
    "        resample_disjoint=cfg.dataset.resample_disjoint,\n",
    "        minimum_node_per_graph=5)"
   ]
  },
  {
   "cell_type": "code",
   "execution_count": 131,
   "metadata": {},
   "outputs": [
    {
     "name": "stdout",
     "output_type": "stream",
     "text": [
      "[]\n"
     ]
    }
   ],
   "source": [
    "from GraphGym.graphgym.loader import transform_before_split\n",
    "f = transform_before_split(e)"
   ]
  },
  {
   "cell_type": "code",
   "execution_count": 158,
   "metadata": {},
   "outputs": [
    {
     "data": {
      "text/plain": [
       "1"
      ]
     },
     "execution_count": 158,
     "metadata": {},
     "output_type": "execute_result"
    }
   ],
   "source": [
    "f.num_labels"
   ]
  },
  {
   "cell_type": "code",
   "execution_count": 134,
   "metadata": {},
   "outputs": [],
   "source": [
    "g= f.split(\n",
    "            transductive=False,\n",
    "            split_ratio=cfg.dataset.split,\n",
    "            shuffle=cfg.dataset.shuffle_split)"
   ]
  },
  {
   "cell_type": "code",
   "execution_count": 141,
   "metadata": {},
   "outputs": [
    {
     "data": {
      "text/plain": [
       "Graph(G=[], edge_index=[2, 256], edge_label_index=[2, 256], node_clustering_coefficient_label=[64], node_feature=[64, 1], node_label=[64], node_label_index=[64], task=[])"
      ]
     },
     "execution_count": 141,
     "metadata": {},
     "output_type": "execute_result"
    }
   ],
   "source": [
    "g[0].graphs[0]"
   ]
  },
  {
   "cell_type": "code",
   "execution_count": 139,
   "metadata": {},
   "outputs": [
    {
     "data": {
      "text/plain": [
       "Graph(G=[], edge_index=[2, 256], edge_label_index=[2, 256], node_clustering_coefficient_label=[64], node_feature=[64, 1], node_label=[64], node_label_index=[64], task=[])"
      ]
     },
     "execution_count": 139,
     "metadata": {},
     "output_type": "execute_result"
    }
   ],
   "source": [
    "g[1].graphs[0]"
   ]
  },
  {
   "cell_type": "code",
   "execution_count": 142,
   "metadata": {},
   "outputs": [
    {
     "data": {
      "text/plain": [
       "[GraphDataset(80), GraphDataset(20)]"
      ]
     },
     "execution_count": 142,
     "metadata": {},
     "output_type": "execute_result"
    }
   ],
   "source": [
    "g"
   ]
  },
  {
   "cell_type": "code",
   "execution_count": 148,
   "metadata": {},
   "outputs": [],
   "source": [
    "from torch.utils.data import DataLoader   \n",
    "from deepsnap.batch import Batch\n",
    "h = DataLoader(g[1], collate_fn=Batch.collate(),\n",
    "                              batch_size=128, shuffle=True,\n",
    "                              num_workers=cfg.num_workers, pin_memory=False)"
   ]
  },
  {
   "cell_type": "code",
   "execution_count": 149,
   "metadata": {},
   "outputs": [
    {
     "data": {
      "text/plain": [
       "Batch(G=[20], batch=[1280], edge_index=[2, 5120], edge_label_index=[2, 5120], node_clustering_coefficient_label=[1280], node_feature=[1280, 1], node_label=[1280], node_label_index=[1280], task=[20])"
      ]
     },
     "execution_count": 149,
     "metadata": {},
     "output_type": "execute_result"
    }
   ],
   "source": [
    "next(iter(h))"
   ]
  },
  {
   "cell_type": "code",
   "execution_count": null,
   "metadata": {},
   "outputs": [],
   "source": []
  }
 ],
 "metadata": {
  "kernelspec": {
   "display_name": "Python [conda env:.conda-tf-geo]",
   "language": "python",
   "name": "conda-env-.conda-tf-geo-py"
  },
  "language_info": {
   "codemirror_mode": {
    "name": "ipython",
    "version": 3
   },
   "file_extension": ".py",
   "mimetype": "text/x-python",
   "name": "python",
   "nbconvert_exporter": "python",
   "pygments_lexer": "ipython3",
   "version": "3.8.0"
  }
 },
 "nbformat": 4,
 "nbformat_minor": 4
}
