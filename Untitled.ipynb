{
 "cells": [
  {
   "cell_type": "code",
   "execution_count": 2,
   "metadata": {},
   "outputs": [],
   "source": [
    "import os\n",
    "#os.environ[\"CUDA_VISIBLE_DEVICES\"] = \"0\"\n",
    "from tf_geometric.utils import tf_utils\n",
    "import tensorflow as tf\n",
    "import tf_geometric as tfg\n",
    "from tqdm import tqdm\n",
    "import time\n",
    "from tf_geometric.data.graph import Graph\n",
    "#graph, (train_index, valid_index, test_index) = tfg.datasets.CoraDataset().load_data()\n",
    "#\n",
    "#num_classes = graph.y.max() + 1\n",
    "#drop_rate = 0.5\n",
    "#learning_rate = 1e-2"
   ]
  },
  {
   "cell_type": "code",
   "execution_count": null,
   "metadata": {},
   "outputs": [],
   "source": []
  },
  {
   "cell_type": "code",
   "execution_count": 4,
   "metadata": {},
   "outputs": [
    {
     "data": {
      "text/plain": [
       "[PhysicalDevice(name='/physical_device:GPU:0', device_type='GPU')]"
      ]
     },
     "execution_count": 4,
     "metadata": {},
     "output_type": "execute_result"
    }
   ],
   "source": [
    "tf.config.experimental.list_physical_devices('GPU')"
   ]
  },
  {
   "cell_type": "code",
   "execution_count": 75,
   "metadata": {},
   "outputs": [
    {
     "name": "stdout",
     "output_type": "stream",
     "text": [
      "raw data exists: /home/zhihao/Document/tf_geom/data/cora/raw, ignore\n"
     ]
    }
   ],
   "source": [
    "graph, (train_index, valid_index, test_index) = tfg.datasets.CoraDataset().load_data()"
   ]
  },
  {
   "cell_type": "code",
   "execution_count": 16,
   "metadata": {},
   "outputs": [
    {
     "data": {
      "text/plain": [
       "140"
      ]
     },
     "execution_count": 16,
     "metadata": {},
     "output_type": "execute_result"
    }
   ],
   "source": [
    "len(train_index)"
   ]
  },
  {
   "cell_type": "code",
   "execution_count": 2,
   "metadata": {},
   "outputs": [
    {
     "ename": "NameError",
     "evalue": "name 'graph' is not defined",
     "output_type": "error",
     "traceback": [
      "\u001b[0;31m---------------------------------------------------------------------------\u001b[0m",
      "\u001b[0;31mNameError\u001b[0m                                 Traceback (most recent call last)",
      "\u001b[0;32m/tmp/ipykernel_46743/1134548262.py\u001b[0m in \u001b[0;36m<module>\u001b[0;34m\u001b[0m\n\u001b[0;32m----> 1\u001b[0;31m \u001b[0mgraph\u001b[0m\u001b[0;34m\u001b[0m\u001b[0;34m\u001b[0m\u001b[0m\n\u001b[0m",
      "\u001b[0;31mNameError\u001b[0m: name 'graph' is not defined"
     ]
    }
   ],
   "source": [
    "graph"
   ]
  },
  {
   "cell_type": "code",
   "execution_count": 77,
   "metadata": {},
   "outputs": [
    {
     "data": {
      "text/plain": [
       "array([[0., 0., 0., ..., 0., 0., 0.],\n",
       "       [0., 0., 0., ..., 0., 0., 0.],\n",
       "       [0., 0., 0., ..., 0., 0., 0.],\n",
       "       ...,\n",
       "       [0., 0., 0., ..., 0., 0., 0.],\n",
       "       [0., 0., 0., ..., 0., 0., 0.],\n",
       "       [0., 0., 0., ..., 0., 0., 0.]], dtype=float32)"
      ]
     },
     "execution_count": 77,
     "metadata": {},
     "output_type": "execute_result"
    }
   ],
   "source": [
    "graph.x"
   ]
  },
  {
   "cell_type": "code",
   "execution_count": 14,
   "metadata": {},
   "outputs": [
    {
     "data": {
      "text/plain": [
       "array([3, 4, 4, ..., 3, 3, 3], dtype=int32)"
      ]
     },
     "execution_count": 14,
     "metadata": {},
     "output_type": "execute_result"
    }
   ],
   "source": [
    "graph.y"
   ]
  },
  {
   "cell_type": "code",
   "execution_count": 79,
   "metadata": {},
   "outputs": [
    {
     "data": {
      "text/plain": [
       "array([[   0,    0,    0, ..., 2688, 2695, 2707],\n",
       "       [ 633, 1862, 2582, ..., 2687, 2694, 2706]], dtype=int32)"
      ]
     },
     "execution_count": 79,
     "metadata": {},
     "output_type": "execute_result"
    }
   ],
   "source": [
    "graph.edge_index"
   ]
  },
  {
   "cell_type": "code",
   "execution_count": null,
   "metadata": {},
   "outputs": [],
   "source": []
  },
  {
   "cell_type": "code",
   "execution_count": 21,
   "metadata": {},
   "outputs": [],
   "source": [
    "import os\n",
    "import random\n",
    "import numpy as np\n",
    "import torch\n",
    "import logging\n",
    "\n",
    "from graphgym.cmd_args import parse_args\n",
    "from graphgym.config import (cfg, assert_cfg, dump_cfg,\n",
    "                             update_out_dir, get_parent_dir)\n",
    "from graphgym.loader import create_dataset, create_loader,load_dataset\n",
    "from graphgym.logger import setup_printing, create_logger\n",
    "from graphgym.optimizer import create_optimizer, create_scheduler\n",
    "from graphgym.model_builder import create_model\n",
    "from graphgym.train import train\n",
    "from graphgym.utils.agg_runs import agg_runs\n",
    "from graphgym.utils.comp_budget import params_count\n",
    "from graphgym.utils.device import auto_select_device\n",
    "from graphgym.contrib.train import *\n",
    "from graphgym.register import train_dict\n",
    "from deepsnap.dataset import GraphDataset"
   ]
  },
  {
   "cell_type": "code",
   "execution_count": 55,
   "metadata": {},
   "outputs": [
    {
     "name": "stdout",
     "output_type": "stream",
     "text": [
      "ba500\n"
     ]
    }
   ],
   "source": [
    "cfg.merge_from_file('node.yaml')\n",
    "graphs = load_dataset()"
   ]
  },
  {
   "cell_type": "code",
   "execution_count": 56,
   "metadata": {},
   "outputs": [
    {
     "data": {
      "text/plain": [
       "'ba500'"
      ]
     },
     "execution_count": 56,
     "metadata": {},
     "output_type": "execute_result"
    }
   ],
   "source": [
    "cfg.dataset.name"
   ]
  },
  {
   "cell_type": "code",
   "execution_count": 57,
   "metadata": {},
   "outputs": [],
   "source": [
    "dataset = GraphDataset(\n",
    "        graphs,\n",
    "        task=cfg.dataset.task,\n",
    "        edge_train_mode=cfg.dataset.edge_train_mode,\n",
    "        edge_message_ratio=cfg.dataset.edge_message_ratio,\n",
    "        edge_negative_sampling_ratio=cfg.dataset.edge_negative_sampling_ratio,\n",
    "        resample_disjoint=cfg.dataset.resample_disjoint,\n",
    "        minimum_node_per_graph=5)"
   ]
  },
  {
   "cell_type": "code",
   "execution_count": 58,
   "metadata": {},
   "outputs": [
    {
     "data": {
      "text/plain": [
       "GraphDataset(500)"
      ]
     },
     "execution_count": 58,
     "metadata": {},
     "output_type": "execute_result"
    }
   ],
   "source": [
    "dataset"
   ]
  },
  {
   "cell_type": "code",
   "execution_count": 60,
   "metadata": {},
   "outputs": [
    {
     "data": {
      "text/plain": [
       "32000"
      ]
     },
     "execution_count": 60,
     "metadata": {},
     "output_type": "execute_result"
    }
   ],
   "source": [
    "sum(dataset.num_nodes)"
   ]
  },
  {
   "cell_type": "code",
   "execution_count": null,
   "metadata": {},
   "outputs": [],
   "source": []
  },
  {
   "cell_type": "code",
   "execution_count": null,
   "metadata": {},
   "outputs": [],
   "source": []
  },
  {
   "cell_type": "code",
   "execution_count": 5,
   "metadata": {},
   "outputs": [
    {
     "data": {
      "text/plain": [
       "tensor([0])"
      ]
     },
     "execution_count": 5,
     "metadata": {},
     "output_type": "execute_result"
    }
   ],
   "source": [
    "graphs[0].graph_label"
   ]
  },
  {
   "cell_type": "code",
   "execution_count": 13,
   "metadata": {},
   "outputs": [],
   "source": [
    "datasets = dataset.split(\n",
    "            transductive=cfg.dataset.transductive,\n",
    "            split_ratio=cfg.dataset.split,\n",
    "            shuffle=cfg.dataset.shuffle_split)"
   ]
  },
  {
   "cell_type": "code",
   "execution_count": 14,
   "metadata": {},
   "outputs": [],
   "source": [
    "loaders = create_loader(datasets)"
   ]
  },
  {
   "cell_type": "code",
   "execution_count": 11,
   "metadata": {},
   "outputs": [
    {
     "data": {
      "text/plain": [
       "[GraphDataset(1), GraphDataset(1), GraphDataset(1)]"
      ]
     },
     "execution_count": 11,
     "metadata": {},
     "output_type": "execute_result"
    }
   ],
   "source": [
    "datasets"
   ]
  },
  {
   "cell_type": "code",
   "execution_count": 35,
   "metadata": {},
   "outputs": [],
   "source": [
    "loaders = create_loader(datasets)"
   ]
  },
  {
   "cell_type": "code",
   "execution_count": 36,
   "metadata": {},
   "outputs": [
    {
     "data": {
      "text/plain": [
       "<torch.utils.data.dataloader.DataLoader at 0x7fe28e4ea760>"
      ]
     },
     "execution_count": 36,
     "metadata": {},
     "output_type": "execute_result"
    }
   ],
   "source": [
    "loaders[0]"
   ]
  },
  {
   "cell_type": "code",
   "execution_count": 11,
   "metadata": {},
   "outputs": [],
   "source": [
    "a = next(iter(loaders[0]))"
   ]
  },
  {
   "cell_type": "code",
   "execution_count": 4,
   "metadata": {},
   "outputs": [],
   "source": [
    "a = graphs[0]"
   ]
  },
  {
   "cell_type": "code",
   "execution_count": 5,
   "metadata": {},
   "outputs": [
    {
     "data": {
      "text/plain": [
       "Graph(G=[], edge_index=[2, 10556], edge_label_index=[2, 10556], node_feature=[2708, 1433], node_label=[2708], node_label_index=[2708])"
      ]
     },
     "execution_count": 5,
     "metadata": {},
     "output_type": "execute_result"
    }
   ],
   "source": [
    "a"
   ]
  },
  {
   "cell_type": "code",
   "execution_count": 47,
   "metadata": {},
   "outputs": [
    {
     "data": {
      "text/plain": [
       "torch.Size([2166])"
      ]
     },
     "execution_count": 47,
     "metadata": {},
     "output_type": "execute_result"
    }
   ],
   "source": [
    "a.node_label.shape"
   ]
  },
  {
   "cell_type": "code",
   "execution_count": 6,
   "metadata": {},
   "outputs": [],
   "source": [
    "from tf_geometric.data.graph import Graph\n",
    "graph = Graph(x=a.node_feature.numpy(), \n",
    "                                      edge_index=a.edge_index.numpy(), y=a.node_label.numpy())"
   ]
  },
  {
   "cell_type": "code",
   "execution_count": 49,
   "metadata": {},
   "outputs": [
    {
     "data": {
      "text/plain": [
       "True"
      ]
     },
     "execution_count": 49,
     "metadata": {},
     "output_type": "execute_result"
    }
   ],
   "source": [
    "graph == graph"
   ]
  },
  {
   "cell_type": "code",
   "execution_count": 59,
   "metadata": {},
   "outputs": [
    {
     "data": {
      "text/plain": [
       "Graph Shape: x => (2708, 1433)\tedge_index => (2, 10556)\ty => (2166,)"
      ]
     },
     "execution_count": 59,
     "metadata": {},
     "output_type": "execute_result"
    }
   ],
   "source": [
    "graph"
   ]
  },
  {
   "cell_type": "code",
   "execution_count": null,
   "metadata": {},
   "outputs": [],
   "source": []
  },
  {
   "cell_type": "code",
   "execution_count": 16,
   "metadata": {},
   "outputs": [],
   "source": [
    "   # for batch in loaders[0]:\n",
    "    \n",
    "        graph = Graph(x=batch.node_feature.numpy(), \n",
    "                                      edge_index=batch.edge_index.numpy(), y=batch.node_label.numpy())"
   ]
  },
  {
   "cell_type": "code",
   "execution_count": 21,
   "metadata": {},
   "outputs": [],
   "source": [
    "batch = graphs[0]\n",
    "graph = Graph(x=batch.node_feature.numpy(), \n",
    "                                      edge_index=batch.edge_index.numpy(), y=batch.node_label.numpy())"
   ]
  },
  {
   "cell_type": "code",
   "execution_count": 17,
   "metadata": {},
   "outputs": [
    {
     "data": {
      "text/plain": [
       "array([[0., 0., 0., ..., 0., 0., 0.],\n",
       "       [0., 0., 0., ..., 0., 0., 0.],\n",
       "       [0., 0., 0., ..., 0., 0., 0.],\n",
       "       ...,\n",
       "       [0., 0., 0., ..., 0., 0., 0.],\n",
       "       [0., 0., 0., ..., 0., 0., 0.],\n",
       "       [0., 0., 0., ..., 0., 0., 0.]], dtype=float32)"
      ]
     },
     "execution_count": 17,
     "metadata": {},
     "output_type": "execute_result"
    }
   ],
   "source": [
    "graph.x"
   ]
  },
  {
   "cell_type": "code",
   "execution_count": 16,
   "metadata": {},
   "outputs": [
    {
     "data": {
      "text/plain": [
       "array([[0., 0., 0., ..., 0., 0., 0.],\n",
       "       [0., 0., 0., ..., 0., 0., 0.],\n",
       "       [0., 0., 0., ..., 0., 0., 0.],\n",
       "       ...,\n",
       "       [0., 0., 0., ..., 0., 0., 0.],\n",
       "       [0., 0., 0., ..., 0., 0., 0.],\n",
       "       [0., 0., 0., ..., 0., 0., 0.]], dtype=float32)"
      ]
     },
     "execution_count": 16,
     "metadata": {},
     "output_type": "execute_result"
    }
   ],
   "source": [
    "graph.x"
   ]
  },
  {
   "cell_type": "code",
   "execution_count": 24,
   "metadata": {},
   "outputs": [
    {
     "data": {
      "text/plain": [
       "Graph Shape: x => (2708, 1433)\tedge_index => (2, 10556)\ty => (2708,)"
      ]
     },
     "execution_count": 24,
     "metadata": {},
     "output_type": "execute_result"
    }
   ],
   "source": [
    "graph"
   ]
  },
  {
   "cell_type": "code",
   "execution_count": 17,
   "metadata": {},
   "outputs": [
    {
     "data": {
      "text/plain": [
       "array([3, 4, 4, ..., 3, 3, 3], dtype=int32)"
      ]
     },
     "execution_count": 17,
     "metadata": {},
     "output_type": "execute_result"
    }
   ],
   "source": [
    "graph.y"
   ]
  },
  {
   "cell_type": "code",
   "execution_count": 84,
   "metadata": {},
   "outputs": [
    {
     "data": {
      "text/plain": [
       "array([[   0,    0,    0, ..., 2688, 2695, 2707],\n",
       "       [ 633, 1862, 2582, ..., 2687, 2694, 2706]], dtype=int32)"
      ]
     },
     "execution_count": 84,
     "metadata": {},
     "output_type": "execute_result"
    }
   ],
   "source": [
    "graph.edge_index"
   ]
  },
  {
   "cell_type": "code",
   "execution_count": 18,
   "metadata": {},
   "outputs": [
    {
     "data": {
      "text/plain": [
       "array([[   0,    0,    0, ..., 2688, 2695, 2707],\n",
       "       [ 633, 1862, 2582, ..., 2687, 2694, 2706]], dtype=int32)"
      ]
     },
     "execution_count": 18,
     "metadata": {},
     "output_type": "execute_result"
    }
   ],
   "source": [
    "graph.edge_index"
   ]
  },
  {
   "cell_type": "code",
   "execution_count": 78,
   "metadata": {},
   "outputs": [
    {
     "data": {
      "text/plain": [
       "array([[   0,    0,    0, ..., 2688, 2695, 2707],\n",
       "       [ 633, 1862, 2582, ..., 2687, 2694, 2706]], dtype=int32)"
      ]
     },
     "execution_count": 78,
     "metadata": {},
     "output_type": "execute_result"
    }
   ],
   "source": [
    "graph.edge_index"
   ]
  },
  {
   "cell_type": "code",
   "execution_count": 14,
   "metadata": {},
   "outputs": [
    {
     "data": {
      "text/plain": [
       "array([1., 1., 1., ..., 1., 1., 1.], dtype=float32)"
      ]
     },
     "execution_count": 14,
     "metadata": {},
     "output_type": "execute_result"
    }
   ],
   "source": [
    "graph.edge_weight"
   ]
  },
  {
   "cell_type": "code",
   "execution_count": 23,
   "metadata": {},
   "outputs": [
    {
     "data": {
      "text/plain": [
       "array([3, 4, 4, ..., 3, 3, 3])"
      ]
     },
     "execution_count": 23,
     "metadata": {},
     "output_type": "execute_result"
    }
   ],
   "source": [
    "graph.y"
   ]
  },
  {
   "cell_type": "code",
   "execution_count": null,
   "metadata": {},
   "outputs": [],
   "source": []
  },
  {
   "cell_type": "code",
   "execution_count": null,
   "metadata": {},
   "outputs": [],
   "source": []
  },
  {
   "cell_type": "code",
   "execution_count": 1,
   "metadata": {},
   "outputs": [
    {
     "ename": "NameError",
     "evalue": "name 'tf' is not defined",
     "output_type": "error",
     "traceback": [
      "\u001b[0;31m---------------------------------------------------------------------------\u001b[0m",
      "\u001b[0;31mNameError\u001b[0m                                 Traceback (most recent call last)",
      "\u001b[0;32m/tmp/ipykernel_23670/2525197654.py\u001b[0m in \u001b[0;36m<module>\u001b[0;34m\u001b[0m\n\u001b[1;32m      6\u001b[0m \u001b[0;34m\u001b[0m\u001b[0m\n\u001b[1;32m      7\u001b[0m \u001b[0;31m# Multi-layer GCN Model\u001b[0m\u001b[0;34m\u001b[0m\u001b[0;34m\u001b[0m\u001b[0;34m\u001b[0m\u001b[0m\n\u001b[0;32m----> 8\u001b[0;31m \u001b[0;32mclass\u001b[0m \u001b[0mGCNModel\u001b[0m\u001b[0;34m(\u001b[0m\u001b[0mtf\u001b[0m\u001b[0;34m.\u001b[0m\u001b[0mkeras\u001b[0m\u001b[0;34m.\u001b[0m\u001b[0mModel\u001b[0m\u001b[0;34m)\u001b[0m\u001b[0;34m:\u001b[0m\u001b[0;34m\u001b[0m\u001b[0;34m\u001b[0m\u001b[0m\n\u001b[0m\u001b[1;32m      9\u001b[0m \u001b[0;34m\u001b[0m\u001b[0m\n\u001b[1;32m     10\u001b[0m     \u001b[0;32mdef\u001b[0m \u001b[0m__init__\u001b[0m\u001b[0;34m(\u001b[0m\u001b[0mself\u001b[0m\u001b[0;34m,\u001b[0m \u001b[0;34m*\u001b[0m\u001b[0margs\u001b[0m\u001b[0;34m,\u001b[0m \u001b[0;34m**\u001b[0m\u001b[0mkwargs\u001b[0m\u001b[0;34m)\u001b[0m\u001b[0;34m:\u001b[0m\u001b[0;34m\u001b[0m\u001b[0;34m\u001b[0m\u001b[0m\n",
      "\u001b[0;31mNameError\u001b[0m: name 'tf' is not defined"
     ]
    }
   ],
   "source": [
    "\n",
    "num_classes = 7\n",
    "drop_rate = 0\n",
    "learning_rate = 1e-3\n",
    "\n",
    "#train_index, valid_index, test_index = loaders[0].node_label_index,loaders[1].node_label_index,loaders[2].node_label_index\n",
    "\n",
    "# Multi-layer GCN Model\n",
    "class GCNModel(tf.keras.Model):\n",
    "\n",
    "    def __init__(self, *args, **kwargs):\n",
    "        super().__init__(*args, **kwargs)\n",
    "        self.gcn0 = tfg.layers.GCN(16, activation=tf.nn.relu)\n",
    "        self.gcn1 = tfg.layers.GCN(num_classes)\n",
    "        self.dropout = tf.keras.layers.Dropout(drop_rate)\n",
    "\n",
    "    def call(self, inputs, training=None, mask=None, cache=None):\n",
    "        x, edge_index, edge_weight = inputs\n",
    "        h = self.dropout(x, training=training)\n",
    "        h = self.gcn0([h, edge_index, edge_weight], cache=cache)\n",
    "        h = self.dropout(h, training=training)\n",
    "        h = self.gcn1([h, edge_index, edge_weight], cache=cache)\n",
    "        return h\n",
    "\n",
    "\n",
    "model = GCNModel()\n",
    "\n",
    "\n",
    "# @tf_utils.function can speed up functions for TensorFlow 2.x.\n",
    "# @tf_utils.function is not compatible with TensorFlow 1.x and dynamic graph.cache.\n",
    "@tf_utils.function\n",
    "def forward(graph, training=False):\n",
    "    return model([graph.x, graph.edge_index, graph.edge_weight], training=training)\n",
    "    \n",
    "\n",
    "# The following line is only necessary for using GCN with @tf_utils.function\n",
    "# For usage without @tf_utils.function, you can commont the following line and GCN layers can automatically manager the cache\n",
    "#model.gcn0.build_cache_for_graph(graph)\n",
    "\n",
    "\n",
    "@tf_utils.function\n",
    "def compute_loss(logits,mask_index,labels, vars):\n",
    "    masked_logits = tf.gather(logits, mask_index)\n",
    "    #masked_labels = tf.gather(graph.y, mask_index)\n",
    "    #labels = tf.gather(graph.y, mask_index)\n",
    "    \n",
    "    losses = tf.nn.softmax_cross_entropy_with_logits(\n",
    "        logits=masked_logits,\n",
    "        labels=tf.one_hot(tf.convert_to_tensor(labels), depth=num_classes)\n",
    "    )\n",
    "\n",
    "    kernel_vars = [var for var in vars if \"kernel\" in var.name]\n",
    "    l2_losses = [tf.nn.l2_loss(kernel_var) for kernel_var in kernel_vars]\n",
    "\n",
    "    return tf.reduce_mean(losses) + tf.add_n(l2_losses) * 5e-4\n",
    "\n",
    "\n",
    "optimizer = tf.keras.optimizers.Adam(learning_rate=learning_rate)\n",
    "\n",
    "\n",
    "@tf_utils.function\n",
    "def train_step():\n",
    "    loss_s = 0\n",
    "    for batch in loaders[0]:\n",
    "        graph = Graph(x=batch.node_feature.numpy(), edge_index=batch.edge_index.numpy(), y=batch.node_label.numpy())\n",
    "        with tf.GradientTape() as tape:\n",
    "            logits = forward(graph, training=True)\n",
    "            #print(logits)\n",
    "            loss = compute_loss(logits,batch.node_label_index,batch.node_label, tape.watched_variables())\n",
    "\n",
    "            vars = tape.watched_variables()\n",
    "            grads = tape.gradient(loss, vars)\n",
    "            optimizer.apply_gradients(zip(grads, vars))\n",
    "        loss_s += loss\n",
    "    return loss_s\n",
    "\n",
    "\n",
    "\n",
    "@tf_utils.function\n",
    "def evaluate():\n",
    "    accuracy_sum = 0\n",
    "    for batch in loaders[2]:\n",
    "        graph = Graph(x=batch.node_feature.numpy(), \n",
    "                                      edge_index=batch.edge_index.numpy(), y=batch.node_label.numpy())    \n",
    "        logits = forward(graph)\n",
    "        masked_logits = tf.gather(logits, batch.node_label_index)\n",
    "        #masked_labels = tf.gather(graph.y, test_index)\n",
    "\n",
    "        y_pred = tf.argmax(masked_logits, axis=-1, output_type=tf.int32)\n",
    "        masked_labels = tf.cast(batch.node_label, y_pred.dtype)\n",
    "        print(y_pred)\n",
    "        print(masked_labels)\n",
    "        corrects = tf.equal(y_pred, masked_labels)\n",
    "        accuracy = tf.reduce_mean(tf.cast(corrects, tf.float32))\n",
    "        accuracy_sum += accuracy\n",
    "    accuracy = accuracy_sum / len(loaders[1])\n",
    "    return accuracy\n",
    "\n",
    "\n",
    "for step in range(1, 201):\n",
    "    loss = train_step()\n",
    "    if step % 20 == 0:\n",
    "        accuracy = evaluate()\n",
    "        print(\"step = {}\\tloss = {}\\taccuracy = {}\".format(step, loss, accuracy))\n",
    "\n",
    "print(\"\\nstart speed test...\")\n",
    "num_test_iterations = 1000\n",
    "start_time = time.time()\n",
    "for _ in tqdm(range(num_test_iterations)):\n",
    "    logits = forward(graph)\n",
    "end_time = time.time()\n",
    "print(\"mean forward time: {} seconds\".format((end_time - start_time) / num_test_iterations))\n",
    "\n",
    "\n"
   ]
  },
  {
   "cell_type": "code",
   "execution_count": 2,
   "metadata": {},
   "outputs": [
    {
     "data": {
      "text/plain": [
       "'results'"
      ]
     },
     "execution_count": 2,
     "metadata": {},
     "output_type": "execute_result"
    }
   ],
   "source": []
  },
  {
   "cell_type": "code",
   "execution_count": 3,
   "metadata": {},
   "outputs": [
    {
     "data": {
      "text/plain": [
       "'/home/zhihao/Document/GraphGym/GraphGym'"
      ]
     },
     "execution_count": 3,
     "metadata": {},
     "output_type": "execute_result"
    }
   ],
   "source": [
    "pwd"
   ]
  },
  {
   "cell_type": "code",
   "execution_count": 26,
   "metadata": {
    "collapsed": true,
    "jupyter": {
     "outputs_hidden": true
    },
    "tags": []
   },
   "outputs": [
    {
     "name": "stdout",
     "output_type": "stream",
     "text": [
      "GPU Mem: [2498]\n",
      "GPU Prob: [1.]\n",
      "Random select GPU, select GPU 0 with mem: 2498\n",
      "node_clustering_coefficient_label dimensions are collapsed due to balanced binning\n",
      "Load: 0.4503s, Before split: 0.2357s, Split: 0.0001185s, After split: 6.914e-06s\n",
      "Start from epoch 0\n"
     ]
    },
    {
     "name": "stderr",
     "output_type": "stream",
     "text": [
      "2021-10-25 16:04:17.302856: I tensorflow/core/platform/cpu_feature_guard.cc:142] This TensorFlow binary is optimized with oneAPI Deep Neural Network Library (oneDNN) to use the following CPU instructions in performance-critical operations:  AVX2 AVX512F FMA\n",
      "To enable them in other operations, rebuild TensorFlow with the appropriate compiler flags.\n",
      "2021-10-25 16:04:20.762151: I tensorflow/core/common_runtime/gpu/gpu_device.cc:1510] Created device /job:localhost/replica:0/task:0/device:GPU:0 with 6265 MB memory:  -> device: 0, name: NVIDIA GeForce RTX 2080 Ti, pci bus id: 0000:18:00.0, compute capability: 7.5\n"
     ]
    },
    {
     "name": "stdout",
     "output_type": "stream",
     "text": [
      "epoch 0, acc:0.3179059326648712\n",
      "epoch 9, acc:0.36798179149627686\n",
      "epoch 19, acc:0.37708649039268494\n",
      "epoch 29, acc:0.399089515209198\n",
      "epoch 39, acc:0.40212443470954895\n",
      "epoch 49, acc:0.37405160069465637\n",
      "epoch 59, acc:0.3171471953392029\n",
      "epoch 69, acc:0.313353568315506\n",
      "epoch 79, acc:0.3156297504901886\n",
      "epoch 89, acc:0.3156297504901886\n",
      "epoch 99, acc:0.3194233775138855\n",
      "epoch 109, acc:0.3254931569099426\n",
      "epoch 119, acc:0.3270106315612793\n",
      "epoch 129, acc:0.3254931569099426\n",
      "epoch 139, acc:0.36191198229789734\n",
      "epoch 149, acc:0.3399089574813843\n",
      "epoch 159, acc:0.3308042585849762\n",
      "epoch 169, acc:0.3330804109573364\n",
      "epoch 179, acc:0.33839151263237\n",
      "epoch 189, acc:0.33763277530670166\n",
      "epoch 199, acc:0.3596358001232147\n",
      "epoch 209, acc:0.36191198229789734\n",
      "epoch 219, acc:0.36039453744888306\n",
      "epoch 229, acc:0.3596358001232147\n",
      "epoch 239, acc:0.3626707196235657\n",
      "epoch 249, acc:0.36570560932159424\n",
      "epoch 259, acc:0.3634294271469116\n",
      "epoch 269, acc:0.36191198229789734\n",
      "epoch 279, acc:0.36191198229789734\n",
      "epoch 289, acc:0.3626707196235657\n",
      "epoch 299, acc:0.3611532747745514\n",
      "epoch 309, acc:0.3611532747745514\n",
      "epoch 319, acc:0.3596358001232147\n",
      "epoch 329, acc:0.3649469017982483\n",
      "epoch 339, acc:0.3626707196235657\n",
      "epoch 349, acc:0.3649469017982483\n",
      "epoch 359, acc:0.3634294271469116\n",
      "epoch 369, acc:0.36191198229789734\n",
      "epoch 379, acc:0.36191198229789734\n",
      "epoch 389, acc:0.36418816447257996\n",
      "epoch 399, acc:0.36949923634529114\n",
      "epoch 409, acc:0.36798179149627686\n",
      "epoch 419, acc:0.3687405288219452\n",
      "epoch 429, acc:0.3702579736709595\n",
      "epoch 439, acc:0.3710166811943054\n",
      "epoch 449, acc:0.3710166811943054\n",
      "epoch 459, acc:0.37329286336898804\n",
      "epoch 469, acc:0.3702579736709595\n",
      "epoch 479, acc:0.3702579736709595\n",
      "epoch 489, acc:0.3687405288219452\n",
      "epoch 499, acc:0.36949923634529114\n",
      "epoch 509, acc:0.3702579736709595\n",
      "epoch 519, acc:0.3649469017982483\n",
      "epoch 529, acc:0.3649469017982483\n",
      "epoch 539, acc:0.3634294271469116\n",
      "epoch 549, acc:0.3687405288219452\n",
      "epoch 559, acc:0.3649469017982483\n",
      "epoch 569, acc:0.36570560932159424\n",
      "epoch 579, acc:0.3672230541706085\n",
      "epoch 589, acc:0.36418816447257996\n",
      "epoch 599, acc:0.36418816447257996\n",
      "epoch 609, acc:0.3626707196235657\n",
      "epoch 619, acc:0.3634294271469116\n",
      "epoch 629, acc:0.3611532747745514\n",
      "epoch 639, acc:0.36191198229789734\n",
      "epoch 649, acc:0.3611532747745514\n",
      "epoch 659, acc:0.3626707196235657\n",
      "epoch 669, acc:0.3649469017982483\n",
      "epoch 679, acc:0.36418816447257996\n",
      "epoch 689, acc:0.3626707196235657\n",
      "epoch 699, acc:0.36039453744888306\n",
      "epoch 709, acc:0.36191198229789734\n",
      "epoch 719, acc:0.3626707196235657\n",
      "epoch 729, acc:0.3626707196235657\n",
      "epoch 739, acc:0.3626707196235657\n",
      "epoch 749, acc:0.3611532747745514\n",
      "epoch 759, acc:0.36418816447257996\n",
      "epoch 769, acc:0.3626707196235657\n",
      "epoch 779, acc:0.3649469017982483\n"
     ]
    },
    {
     "ename": "KeyboardInterrupt",
     "evalue": "",
     "output_type": "error",
     "traceback": [
      "\u001b[0;31m---------------------------------------------------------------------------\u001b[0m",
      "\u001b[0;31mKeyboardInterrupt\u001b[0m                         Traceback (most recent call last)",
      "\u001b[0;32m/tmp/ipykernel_26743/1008298211.py\u001b[0m in \u001b[0;36m<module>\u001b[0;34m\u001b[0m\n\u001b[1;32m    119\u001b[0m \u001b[0;34m\u001b[0m\u001b[0m\n\u001b[1;32m    120\u001b[0m     \u001b[0;32mif\u001b[0m \u001b[0mcfg\u001b[0m\u001b[0;34m.\u001b[0m\u001b[0mtrain\u001b[0m\u001b[0;34m.\u001b[0m\u001b[0mmode\u001b[0m \u001b[0;34m==\u001b[0m \u001b[0;34m'standard'\u001b[0m\u001b[0;34m:\u001b[0m\u001b[0;34m\u001b[0m\u001b[0;34m\u001b[0m\u001b[0m\n\u001b[0;32m--> 121\u001b[0;31m         \u001b[0macc_list\u001b[0m \u001b[0;34m=\u001b[0m \u001b[0mtrain\u001b[0m\u001b[0;34m(\u001b[0m\u001b[0mmeters\u001b[0m\u001b[0;34m,\u001b[0m \u001b[0mloaders\u001b[0m\u001b[0;34m,\u001b[0m \u001b[0mmodel\u001b[0m\u001b[0;34m,\u001b[0m \u001b[0moptimizer\u001b[0m\u001b[0;34m,\u001b[0m\u001b[0mdatasets\u001b[0m\u001b[0;34m)\u001b[0m\u001b[0;34m\u001b[0m\u001b[0;34m\u001b[0m\u001b[0m\n\u001b[0m\u001b[1;32m    122\u001b[0m         \u001b[0macc_lists\u001b[0m\u001b[0;34m.\u001b[0m\u001b[0mappend\u001b[0m\u001b[0;34m(\u001b[0m\u001b[0macc_list\u001b[0m\u001b[0;34m)\u001b[0m\u001b[0;34m\u001b[0m\u001b[0;34m\u001b[0m\u001b[0m\n\u001b[1;32m    123\u001b[0m         \u001b[0mmax_acc\u001b[0m\u001b[0;34m.\u001b[0m\u001b[0mappend\u001b[0m\u001b[0;34m(\u001b[0m\u001b[0mmax\u001b[0m\u001b[0;34m(\u001b[0m\u001b[0macc_list\u001b[0m\u001b[0;34m)\u001b[0m\u001b[0;34m)\u001b[0m\u001b[0;34m\u001b[0m\u001b[0;34m\u001b[0m\u001b[0m\n",
      "\u001b[0;32m~/Document/GraphGym/GraphGym/graphgym/train.py\u001b[0m in \u001b[0;36mtrain\u001b[0;34m(loggers, loaders, model, optimizer, datasets)\u001b[0m\n\u001b[1;32m    115\u001b[0m             \u001b[0mtrain_epoch\u001b[0m\u001b[0;34m(\u001b[0m\u001b[0mloggers\u001b[0m\u001b[0;34m[\u001b[0m\u001b[0;36m0\u001b[0m\u001b[0;34m]\u001b[0m\u001b[0;34m,\u001b[0m \u001b[0mloaders\u001b[0m\u001b[0;34m[\u001b[0m\u001b[0;36m0\u001b[0m\u001b[0;34m]\u001b[0m\u001b[0;34m,\u001b[0m \u001b[0mmodel\u001b[0m\u001b[0;34m,\u001b[0m \u001b[0moptimizer\u001b[0m\u001b[0;34m)\u001b[0m\u001b[0;34m\u001b[0m\u001b[0;34m\u001b[0m\u001b[0m\n\u001b[1;32m    116\u001b[0m         \u001b[0;32melse\u001b[0m\u001b[0;34m:\u001b[0m\u001b[0;34m\u001b[0m\u001b[0;34m\u001b[0m\u001b[0m\n\u001b[0;32m--> 117\u001b[0;31m             \u001b[0mtrain_epoch_Tfg\u001b[0m\u001b[0;34m(\u001b[0m\u001b[0mloggers\u001b[0m\u001b[0;34m[\u001b[0m\u001b[0;36m0\u001b[0m\u001b[0;34m]\u001b[0m\u001b[0;34m,\u001b[0m \u001b[0mloaders\u001b[0m\u001b[0;34m[\u001b[0m\u001b[0;36m0\u001b[0m\u001b[0;34m]\u001b[0m\u001b[0;34m,\u001b[0m \u001b[0mmodel\u001b[0m\u001b[0;34m,\u001b[0m \u001b[0moptimizer\u001b[0m\u001b[0;34m,\u001b[0m\u001b[0mdatasets\u001b[0m\u001b[0;34m)\u001b[0m\u001b[0;34m\u001b[0m\u001b[0;34m\u001b[0m\u001b[0m\n\u001b[0m\u001b[1;32m    118\u001b[0m         \u001b[0;31m#loggers[0].write_epoch(cur_epoch)\u001b[0m\u001b[0;34m\u001b[0m\u001b[0;34m\u001b[0m\u001b[0;34m\u001b[0m\u001b[0m\n\u001b[1;32m    119\u001b[0m         \u001b[0;32mif\u001b[0m \u001b[0mis_eval_epoch\u001b[0m\u001b[0;34m(\u001b[0m\u001b[0mcur_epoch\u001b[0m\u001b[0;34m)\u001b[0m\u001b[0;34m:\u001b[0m\u001b[0;34m\u001b[0m\u001b[0;34m\u001b[0m\u001b[0m\n",
      "\u001b[0;32m~/Document/GraphGym/GraphGym/graphgym/train.py\u001b[0m in \u001b[0;36mtrain_epoch_Tfg\u001b[0;34m(logger, loader, model, optimizer, datasets)\u001b[0m\n\u001b[1;32m     39\u001b[0m     \u001b[0mloss_s\u001b[0m \u001b[0;34m=\u001b[0m \u001b[0;36m0\u001b[0m\u001b[0;34m\u001b[0m\u001b[0;34m\u001b[0m\u001b[0m\n\u001b[1;32m     40\u001b[0m     \u001b[0mtime_start\u001b[0m \u001b[0;34m=\u001b[0m \u001b[0mtime\u001b[0m\u001b[0;34m.\u001b[0m\u001b[0mtime\u001b[0m\u001b[0;34m(\u001b[0m\u001b[0;34m)\u001b[0m\u001b[0;34m\u001b[0m\u001b[0;34m\u001b[0m\u001b[0m\n\u001b[0;32m---> 41\u001b[0;31m     \u001b[0;32mfor\u001b[0m \u001b[0mbatch\u001b[0m \u001b[0;32min\u001b[0m \u001b[0mloader\u001b[0m\u001b[0;34m:\u001b[0m\u001b[0;34m\u001b[0m\u001b[0;34m\u001b[0m\u001b[0m\n\u001b[0m\u001b[1;32m     42\u001b[0m         \u001b[0mgraph\u001b[0m \u001b[0;34m=\u001b[0m \u001b[0mGraph\u001b[0m\u001b[0;34m(\u001b[0m\u001b[0mx\u001b[0m\u001b[0;34m=\u001b[0m\u001b[0mbatch\u001b[0m\u001b[0;34m.\u001b[0m\u001b[0mnode_feature\u001b[0m\u001b[0;34m.\u001b[0m\u001b[0mnumpy\u001b[0m\u001b[0;34m(\u001b[0m\u001b[0;34m)\u001b[0m\u001b[0;34m,\u001b[0m \u001b[0medge_index\u001b[0m\u001b[0;34m=\u001b[0m\u001b[0mbatch\u001b[0m\u001b[0;34m.\u001b[0m\u001b[0medge_index\u001b[0m\u001b[0;34m.\u001b[0m\u001b[0mnumpy\u001b[0m\u001b[0;34m(\u001b[0m\u001b[0;34m)\u001b[0m\u001b[0;34m,\u001b[0m \u001b[0my\u001b[0m\u001b[0;34m=\u001b[0m\u001b[0mbatch\u001b[0m\u001b[0;34m.\u001b[0m\u001b[0mnode_label\u001b[0m\u001b[0;34m.\u001b[0m\u001b[0mnumpy\u001b[0m\u001b[0;34m(\u001b[0m\u001b[0;34m)\u001b[0m\u001b[0;34m)\u001b[0m\u001b[0;34m\u001b[0m\u001b[0;34m\u001b[0m\u001b[0m\n\u001b[1;32m     43\u001b[0m         \u001b[0;32mwith\u001b[0m \u001b[0mtf\u001b[0m\u001b[0;34m.\u001b[0m\u001b[0mGradientTape\u001b[0m\u001b[0;34m(\u001b[0m\u001b[0;34m)\u001b[0m \u001b[0;32mas\u001b[0m \u001b[0mtape\u001b[0m\u001b[0;34m:\u001b[0m\u001b[0;34m\u001b[0m\u001b[0;34m\u001b[0m\u001b[0m\n",
      "\u001b[0;32m~/.conda/envs/tf-geo/lib/python3.8/site-packages/torch/utils/data/dataloader.py\u001b[0m in \u001b[0;36m__next__\u001b[0;34m(self)\u001b[0m\n\u001b[1;32m    519\u001b[0m             \u001b[0;32mif\u001b[0m \u001b[0mself\u001b[0m\u001b[0;34m.\u001b[0m\u001b[0m_sampler_iter\u001b[0m \u001b[0;32mis\u001b[0m \u001b[0;32mNone\u001b[0m\u001b[0;34m:\u001b[0m\u001b[0;34m\u001b[0m\u001b[0;34m\u001b[0m\u001b[0m\n\u001b[1;32m    520\u001b[0m                 \u001b[0mself\u001b[0m\u001b[0;34m.\u001b[0m\u001b[0m_reset\u001b[0m\u001b[0;34m(\u001b[0m\u001b[0;34m)\u001b[0m\u001b[0;34m\u001b[0m\u001b[0;34m\u001b[0m\u001b[0m\n\u001b[0;32m--> 521\u001b[0;31m             \u001b[0mdata\u001b[0m \u001b[0;34m=\u001b[0m \u001b[0mself\u001b[0m\u001b[0;34m.\u001b[0m\u001b[0m_next_data\u001b[0m\u001b[0;34m(\u001b[0m\u001b[0;34m)\u001b[0m\u001b[0;34m\u001b[0m\u001b[0;34m\u001b[0m\u001b[0m\n\u001b[0m\u001b[1;32m    522\u001b[0m             \u001b[0mself\u001b[0m\u001b[0;34m.\u001b[0m\u001b[0m_num_yielded\u001b[0m \u001b[0;34m+=\u001b[0m \u001b[0;36m1\u001b[0m\u001b[0;34m\u001b[0m\u001b[0;34m\u001b[0m\u001b[0m\n\u001b[1;32m    523\u001b[0m             \u001b[0;32mif\u001b[0m \u001b[0mself\u001b[0m\u001b[0;34m.\u001b[0m\u001b[0m_dataset_kind\u001b[0m \u001b[0;34m==\u001b[0m \u001b[0m_DatasetKind\u001b[0m\u001b[0;34m.\u001b[0m\u001b[0mIterable\u001b[0m \u001b[0;32mand\u001b[0m\u001b[0;31m \u001b[0m\u001b[0;31m\\\u001b[0m\u001b[0;34m\u001b[0m\u001b[0;34m\u001b[0m\u001b[0m\n",
      "\u001b[0;32m~/.conda/envs/tf-geo/lib/python3.8/site-packages/torch/utils/data/dataloader.py\u001b[0m in \u001b[0;36m_next_data\u001b[0;34m(self)\u001b[0m\n\u001b[1;32m    559\u001b[0m     \u001b[0;32mdef\u001b[0m \u001b[0m_next_data\u001b[0m\u001b[0;34m(\u001b[0m\u001b[0mself\u001b[0m\u001b[0;34m)\u001b[0m\u001b[0;34m:\u001b[0m\u001b[0;34m\u001b[0m\u001b[0;34m\u001b[0m\u001b[0m\n\u001b[1;32m    560\u001b[0m         \u001b[0mindex\u001b[0m \u001b[0;34m=\u001b[0m \u001b[0mself\u001b[0m\u001b[0;34m.\u001b[0m\u001b[0m_next_index\u001b[0m\u001b[0;34m(\u001b[0m\u001b[0;34m)\u001b[0m  \u001b[0;31m# may raise StopIteration\u001b[0m\u001b[0;34m\u001b[0m\u001b[0;34m\u001b[0m\u001b[0m\n\u001b[0;32m--> 561\u001b[0;31m         \u001b[0mdata\u001b[0m \u001b[0;34m=\u001b[0m \u001b[0mself\u001b[0m\u001b[0;34m.\u001b[0m\u001b[0m_dataset_fetcher\u001b[0m\u001b[0;34m.\u001b[0m\u001b[0mfetch\u001b[0m\u001b[0;34m(\u001b[0m\u001b[0mindex\u001b[0m\u001b[0;34m)\u001b[0m  \u001b[0;31m# may raise StopIteration\u001b[0m\u001b[0;34m\u001b[0m\u001b[0;34m\u001b[0m\u001b[0m\n\u001b[0m\u001b[1;32m    562\u001b[0m         \u001b[0;32mif\u001b[0m \u001b[0mself\u001b[0m\u001b[0;34m.\u001b[0m\u001b[0m_pin_memory\u001b[0m\u001b[0;34m:\u001b[0m\u001b[0;34m\u001b[0m\u001b[0;34m\u001b[0m\u001b[0m\n\u001b[1;32m    563\u001b[0m             \u001b[0mdata\u001b[0m \u001b[0;34m=\u001b[0m \u001b[0m_utils\u001b[0m\u001b[0;34m.\u001b[0m\u001b[0mpin_memory\u001b[0m\u001b[0;34m.\u001b[0m\u001b[0mpin_memory\u001b[0m\u001b[0;34m(\u001b[0m\u001b[0mdata\u001b[0m\u001b[0;34m)\u001b[0m\u001b[0;34m\u001b[0m\u001b[0;34m\u001b[0m\u001b[0m\n",
      "\u001b[0;32m~/.conda/envs/tf-geo/lib/python3.8/site-packages/torch/utils/data/_utils/fetch.py\u001b[0m in \u001b[0;36mfetch\u001b[0;34m(self, possibly_batched_index)\u001b[0m\n\u001b[1;32m     45\u001b[0m         \u001b[0;32melse\u001b[0m\u001b[0;34m:\u001b[0m\u001b[0;34m\u001b[0m\u001b[0;34m\u001b[0m\u001b[0m\n\u001b[1;32m     46\u001b[0m             \u001b[0mdata\u001b[0m \u001b[0;34m=\u001b[0m \u001b[0mself\u001b[0m\u001b[0;34m.\u001b[0m\u001b[0mdataset\u001b[0m\u001b[0;34m[\u001b[0m\u001b[0mpossibly_batched_index\u001b[0m\u001b[0;34m]\u001b[0m\u001b[0;34m\u001b[0m\u001b[0;34m\u001b[0m\u001b[0m\n\u001b[0;32m---> 47\u001b[0;31m         \u001b[0;32mreturn\u001b[0m \u001b[0mself\u001b[0m\u001b[0;34m.\u001b[0m\u001b[0mcollate_fn\u001b[0m\u001b[0;34m(\u001b[0m\u001b[0mdata\u001b[0m\u001b[0;34m)\u001b[0m\u001b[0;34m\u001b[0m\u001b[0;34m\u001b[0m\u001b[0m\n\u001b[0m",
      "\u001b[0;32m~/.conda/envs/tf-geo/lib/python3.8/site-packages/deepsnap/batch.py\u001b[0m in \u001b[0;36m<lambda>\u001b[0;34m(batch)\u001b[0m\n\u001b[1;32m     33\u001b[0m     \u001b[0;34m@\u001b[0m\u001b[0mstaticmethod\u001b[0m\u001b[0;34m\u001b[0m\u001b[0;34m\u001b[0m\u001b[0m\n\u001b[1;32m     34\u001b[0m     \u001b[0;32mdef\u001b[0m \u001b[0mcollate\u001b[0m\u001b[0;34m(\u001b[0m\u001b[0mfollow_batch\u001b[0m\u001b[0;34m=\u001b[0m\u001b[0;34m[\u001b[0m\u001b[0;34m]\u001b[0m\u001b[0;34m,\u001b[0m \u001b[0mtransform\u001b[0m\u001b[0;34m=\u001b[0m\u001b[0;32mNone\u001b[0m\u001b[0;34m,\u001b[0m \u001b[0;34m**\u001b[0m\u001b[0mkwargs\u001b[0m\u001b[0;34m)\u001b[0m\u001b[0;34m:\u001b[0m\u001b[0;34m\u001b[0m\u001b[0;34m\u001b[0m\u001b[0m\n\u001b[0;32m---> 35\u001b[0;31m         return lambda batch: Batch.from_data_list(\n\u001b[0m\u001b[1;32m     36\u001b[0m             \u001b[0mbatch\u001b[0m\u001b[0;34m,\u001b[0m \u001b[0mfollow_batch\u001b[0m\u001b[0;34m,\u001b[0m \u001b[0mtransform\u001b[0m\u001b[0;34m,\u001b[0m \u001b[0;34m**\u001b[0m\u001b[0mkwargs\u001b[0m\u001b[0;34m\u001b[0m\u001b[0;34m\u001b[0m\u001b[0m\n\u001b[1;32m     37\u001b[0m         )\n",
      "\u001b[0;32m~/.conda/envs/tf-geo/lib/python3.8/site-packages/deepsnap/batch.py\u001b[0m in \u001b[0;36mfrom_data_list\u001b[0;34m(data_list, follow_batch, transform, **kwargs)\u001b[0m\n\u001b[1;32m     79\u001b[0m         \u001b[0;32mfor\u001b[0m \u001b[0mi\u001b[0m\u001b[0;34m,\u001b[0m \u001b[0mdata\u001b[0m \u001b[0;32min\u001b[0m \u001b[0menumerate\u001b[0m\u001b[0;34m(\u001b[0m\u001b[0mdata_list\u001b[0m\u001b[0;34m)\u001b[0m\u001b[0;34m:\u001b[0m\u001b[0;34m\u001b[0m\u001b[0;34m\u001b[0m\u001b[0m\n\u001b[1;32m     80\u001b[0m             \u001b[0;31m# Note: in heterogeneous graph, __inc__ logic is different\u001b[0m\u001b[0;34m\u001b[0m\u001b[0;34m\u001b[0m\u001b[0;34m\u001b[0m\u001b[0m\n\u001b[0;32m---> 81\u001b[0;31m             Batch._collate_dict(\n\u001b[0m\u001b[1;32m     82\u001b[0m                 \u001b[0mdata\u001b[0m\u001b[0;34m,\u001b[0m \u001b[0mcumsum\u001b[0m\u001b[0;34m,\u001b[0m\u001b[0;34m\u001b[0m\u001b[0;34m\u001b[0m\u001b[0m\n\u001b[1;32m     83\u001b[0m                 \u001b[0mbatch\u001b[0m\u001b[0;34m.\u001b[0m\u001b[0m__slices__\u001b[0m\u001b[0;34m,\u001b[0m \u001b[0mbatch\u001b[0m\u001b[0;34m,\u001b[0m\u001b[0;34m\u001b[0m\u001b[0;34m\u001b[0m\u001b[0m\n",
      "\u001b[0;32m~/.conda/envs/tf-geo/lib/python3.8/site-packages/deepsnap/batch.py\u001b[0m in \u001b[0;36m_collate_dict\u001b[0;34m(curr_dict, cumsum, slices, batched_dict, graph, follow_batch, i)\u001b[0m\n\u001b[1;32m    145\u001b[0m             \u001b[0mkeys\u001b[0m \u001b[0;34m=\u001b[0m \u001b[0mcurr_dict\u001b[0m\u001b[0;34m.\u001b[0m\u001b[0mkeys\u001b[0m\u001b[0;34m(\u001b[0m\u001b[0;34m)\u001b[0m\u001b[0;34m\u001b[0m\u001b[0;34m\u001b[0m\u001b[0m\n\u001b[1;32m    146\u001b[0m         \u001b[0;32melse\u001b[0m\u001b[0;34m:\u001b[0m\u001b[0;34m\u001b[0m\u001b[0;34m\u001b[0m\u001b[0m\n\u001b[0;32m--> 147\u001b[0;31m             \u001b[0mkeys\u001b[0m \u001b[0;34m=\u001b[0m \u001b[0mcurr_dict\u001b[0m\u001b[0;34m.\u001b[0m\u001b[0mkeys\u001b[0m\u001b[0;34m\u001b[0m\u001b[0;34m\u001b[0m\u001b[0m\n\u001b[0m\u001b[1;32m    148\u001b[0m         \u001b[0;32mfor\u001b[0m \u001b[0mkey\u001b[0m \u001b[0;32min\u001b[0m \u001b[0mkeys\u001b[0m\u001b[0;34m:\u001b[0m\u001b[0;34m\u001b[0m\u001b[0;34m\u001b[0m\u001b[0m\n\u001b[1;32m    149\u001b[0m             \u001b[0mitem\u001b[0m \u001b[0;34m=\u001b[0m \u001b[0mcurr_dict\u001b[0m\u001b[0;34m[\u001b[0m\u001b[0mkey\u001b[0m\u001b[0;34m]\u001b[0m\u001b[0;34m\u001b[0m\u001b[0;34m\u001b[0m\u001b[0m\n",
      "\u001b[0;32m~/.conda/envs/tf-geo/lib/python3.8/site-packages/deepsnap/graph.py\u001b[0m in \u001b[0;36mkeys\u001b[0;34m(self)\u001b[0m\n\u001b[1;32m    145\u001b[0m         \u001b[0;31m# filter attributes that are not observed by users\u001b[0m\u001b[0;34m\u001b[0m\u001b[0;34m\u001b[0m\u001b[0;34m\u001b[0m\u001b[0m\n\u001b[1;32m    146\u001b[0m         \u001b[0;31m# (1) those with value \"None\"; (2) those start with '_'\u001b[0m\u001b[0;34m\u001b[0m\u001b[0;34m\u001b[0m\u001b[0;34m\u001b[0m\u001b[0m\n\u001b[0;32m--> 147\u001b[0;31m         keys = [\n\u001b[0m\u001b[1;32m    148\u001b[0m             \u001b[0mkey\u001b[0m\u001b[0;34m\u001b[0m\u001b[0;34m\u001b[0m\u001b[0m\n\u001b[1;32m    149\u001b[0m             \u001b[0;32mfor\u001b[0m \u001b[0mkey\u001b[0m \u001b[0;32min\u001b[0m \u001b[0mself\u001b[0m\u001b[0;34m.\u001b[0m\u001b[0m__dict__\u001b[0m\u001b[0;34m.\u001b[0m\u001b[0mkeys\u001b[0m\u001b[0;34m(\u001b[0m\u001b[0;34m)\u001b[0m\u001b[0;34m\u001b[0m\u001b[0;34m\u001b[0m\u001b[0m\n",
      "\u001b[0;32m~/.conda/envs/tf-geo/lib/python3.8/site-packages/deepsnap/graph.py\u001b[0m in \u001b[0;36m<listcomp>\u001b[0;34m(.0)\u001b[0m\n\u001b[1;32m    148\u001b[0m             \u001b[0mkey\u001b[0m\u001b[0;34m\u001b[0m\u001b[0;34m\u001b[0m\u001b[0m\n\u001b[1;32m    149\u001b[0m             \u001b[0;32mfor\u001b[0m \u001b[0mkey\u001b[0m \u001b[0;32min\u001b[0m \u001b[0mself\u001b[0m\u001b[0;34m.\u001b[0m\u001b[0m__dict__\u001b[0m\u001b[0;34m.\u001b[0m\u001b[0mkeys\u001b[0m\u001b[0;34m(\u001b[0m\u001b[0;34m)\u001b[0m\u001b[0;34m\u001b[0m\u001b[0;34m\u001b[0m\u001b[0m\n\u001b[0;32m--> 150\u001b[0;31m             \u001b[0;32mif\u001b[0m \u001b[0mself\u001b[0m\u001b[0;34m[\u001b[0m\u001b[0mkey\u001b[0m\u001b[0;34m]\u001b[0m \u001b[0;32mis\u001b[0m \u001b[0;32mnot\u001b[0m \u001b[0;32mNone\u001b[0m \u001b[0;32mand\u001b[0m \u001b[0mkey\u001b[0m\u001b[0;34m[\u001b[0m\u001b[0;36m0\u001b[0m\u001b[0;34m]\u001b[0m \u001b[0;34m!=\u001b[0m \u001b[0;34m\"_\"\u001b[0m\u001b[0;34m\u001b[0m\u001b[0;34m\u001b[0m\u001b[0m\n\u001b[0m\u001b[1;32m    151\u001b[0m         ]\n\u001b[1;32m    152\u001b[0m         \u001b[0;32mreturn\u001b[0m \u001b[0mkeys\u001b[0m\u001b[0;34m\u001b[0m\u001b[0;34m\u001b[0m\u001b[0m\n",
      "\u001b[0;32m~/.conda/envs/tf-geo/lib/python3.8/site-packages/deepsnap/graph.py\u001b[0m in \u001b[0;36m__getitem__\u001b[0;34m(self, key)\u001b[0m\n\u001b[1;32m    129\u001b[0m         \u001b[0mGets\u001b[0m \u001b[0mthe\u001b[0m \u001b[0mdata\u001b[0m \u001b[0mof\u001b[0m \u001b[0mthe\u001b[0m \u001b[0mattribute\u001b[0m \u001b[0;34m:\u001b[0m\u001b[0mobj\u001b[0m\u001b[0;34m:\u001b[0m\u001b[0;31m`\u001b[0m\u001b[0mkey\u001b[0m\u001b[0;31m`\u001b[0m\u001b[0;34m.\u001b[0m\u001b[0;34m\u001b[0m\u001b[0;34m\u001b[0m\u001b[0m\n\u001b[1;32m    130\u001b[0m         \"\"\"\n\u001b[0;32m--> 131\u001b[0;31m         \u001b[0;32mreturn\u001b[0m \u001b[0mgetattr\u001b[0m\u001b[0;34m(\u001b[0m\u001b[0mself\u001b[0m\u001b[0;34m,\u001b[0m \u001b[0mkey\u001b[0m\u001b[0;34m,\u001b[0m \u001b[0;32mNone\u001b[0m\u001b[0;34m)\u001b[0m\u001b[0;34m\u001b[0m\u001b[0;34m\u001b[0m\u001b[0m\n\u001b[0m\u001b[1;32m    132\u001b[0m \u001b[0;34m\u001b[0m\u001b[0m\n\u001b[1;32m    133\u001b[0m     \u001b[0;32mdef\u001b[0m \u001b[0m__setitem__\u001b[0m\u001b[0;34m(\u001b[0m\u001b[0mself\u001b[0m\u001b[0;34m,\u001b[0m \u001b[0mkey\u001b[0m\u001b[0;34m:\u001b[0m \u001b[0mstr\u001b[0m\u001b[0;34m,\u001b[0m \u001b[0mvalue\u001b[0m\u001b[0;34m)\u001b[0m\u001b[0;34m:\u001b[0m\u001b[0;34m\u001b[0m\u001b[0;34m\u001b[0m\u001b[0m\n",
      "\u001b[0;31mKeyboardInterrupt\u001b[0m: "
     ]
    }
   ],
   "source": [
    "import os\n",
    "import random\n",
    "import numpy as np\n",
    "import torch\n",
    "import logging\n",
    "\n",
    "#from GraphGym.graphgym.cmd_args import parse_args\n",
    "from graphgym.config import (cfg, assert_cfg, dump_cfg,\n",
    "                  update_out_dir, get_parent_dir)\n",
    "from graphgym.loader import create_dataset, create_loader\n",
    "from graphgym.logger import setup_printing, create_logger\n",
    "from graphgym.optimizer import create_optimizer, create_scheduler\n",
    "from graphgym.model_builder import create_model\n",
    "from graphgym.train import train\n",
    "from graphgym.utils.agg_runs import agg_runs\n",
    "from graphgym.utils.comp_budget import params_count\n",
    "from graphgym.utils.device import auto_select_device\n",
    "from graphgym.register import train_dict\n",
    "\n",
    "import tensorflow as tf\n",
    "import tf_geometric as tfg\n",
    "\n",
    "repeat = 3\n",
    "\n",
    "\n",
    "class GCNModel(tf.keras.Model):\n",
    "\n",
    "    def __init__(self, *args, **kwargs):\n",
    "        super().__init__(*args, **kwargs)\n",
    "        self.gcn0 = tfg.layers.GCN(128, activation=tf.nn.relu)\n",
    "        self.gcn1 = tfg.layers.GCN(datasets[0].num_labels)\n",
    "        #self.dropout = tf.keras.layers.Dropout(drop_rate)\n",
    "\n",
    "    def call(self, inputs, training=None, mask=None, cache=None):\n",
    "        x, edge_index, edge_weight = inputs\n",
    "        #h = self.dropout(x, training=training)\n",
    "        h = self.gcn0([x, edge_index, edge_weight], cache=cache)\n",
    "        #h = self.dropout(h, training=training)\n",
    "        h = self.gcn1([h, edge_index, edge_weight], cache=cache)\n",
    "        return h\n",
    "\n",
    "    \n",
    "    \n",
    "class GATModel(tf.keras.Model):\n",
    "\n",
    "    def __init__(self, *args, **kwargs):\n",
    "        super().__init__(*args, **kwargs)\n",
    "        self.gat0 = tfg.layers.GAT(64, activation=tf.nn.relu, num_heads=8, attention_units=8, drop_rate=0)\n",
    "        self.gat1 = tfg.layers.GAT(datasets[0].num_labels, num_heads=1, attention_units=1, drop_rate=0)\n",
    "\n",
    "        # The GAT paper mentioned that: \"Specially, if we perform multi-head attention on the final (prediction) layer of\n",
    "        # the network, concatenation is no longer sensible - instead, we employ averaging\".\n",
    "        # In tf_geometric, if you want to set num_heads > 1 for the last output GAT layer, you can set split_value_heads=False\n",
    "        # as follows to employ averaging instead of concatenation.\n",
    "        # self.gat1 = tfg.layers.GAT(num_classes, num_heads=8, attention_units=8, split_value_heads=False, drop_rate=drop_rate)\n",
    "\n",
    "        #self.dropout = tf.keras.layers.Dropout(drop_rate)\n",
    "\n",
    "    def call(self, inputs, training=None, mask=None, cache=None):\n",
    "        x, edge_index,_ = inputs\n",
    "        #h = self.dropout(x, training=training)\n",
    "        h = self.gat0([x, edge_index], training=training)\n",
    "        #h = self.dropout(h, training=training)\n",
    "        h = self.gat1([h, edge_index], training=training)\n",
    "        return h\n",
    "\n",
    "class APPNPModel(tf.keras.Model):\n",
    "\n",
    "    def __init__(self, *args, **kwargs):\n",
    "        super().__init__(*args, **kwargs)\n",
    "        self.appnp = tfg.layers.APPNP([64, datasets[0].num_labels], alpha=0.1, num_iterations=10,\n",
    "                                      dense_drop_rate=0, edge_drop_rate=0)\n",
    "        #self.dropout = tf.keras.layers.Dropout(drop_rate)\n",
    "\n",
    "    def call(self, inputs, training=None, mask=None, cache=None):\n",
    "        x, edge_index, edge_weight = inputs\n",
    "        #h = self.dropout(x, training=training)\n",
    "        h = self.appnp([x, edge_index, edge_weight], training=training, cache=cache)\n",
    "        return h\n",
    "\n",
    "    \n",
    "acc_lists = []\n",
    "max_acc = []\n",
    "for i in range(repeat):\n",
    "    # Load config file\n",
    "    cfg.merge_from_file('node.yaml')\n",
    "    #cfg.device = 'cuda'\n",
    "    #print(cfg.dataset.format)\n",
    "    #cfg.merge_from_list(args.opts)\n",
    "    assert_cfg(cfg)\n",
    "    # Set Pytorch environment\n",
    "    torch.set_num_threads(cfg.num_threads)\n",
    "    out_dir_parent = cfg.out_dir\n",
    "    cfg.seed = i + 1\n",
    "    random.seed(cfg.seed)\n",
    "    np.random.seed(cfg.seed)\n",
    "    torch.manual_seed(cfg.seed)\n",
    "    #update_out_dir(out_dir_parent, args.cfg_file)\n",
    "    dump_cfg(cfg)\n",
    "    setup_printing()\n",
    "    auto_select_device()\n",
    "    # Set learning environment\n",
    "    datasets = create_dataset()\n",
    "    loaders = create_loader(datasets)\n",
    "    meters = create_logger(datasets)\n",
    "    #model = create_model(datasets)\n",
    "    model = GATModel(datasets)\n",
    "    #optimizer = create_optimizer(model.parameters())\n",
    "    optimizer = tf.keras.optimizers.Adam(learning_rate=cfg.optim.base_lr)\n",
    "    #print(cfg.optim.base_lr)\n",
    "    #scheduler = create_scheduler(optimizer)\n",
    "    #logging.info(model)\n",
    "    #logging.info(cfg)\n",
    "    cfg.params = 0\n",
    "    \n",
    "    #cfg.device = 'cuda'\n",
    "    #print(cfg.dataset.augment_label_dims)\n",
    "    #logging.info('Num parameters: {}'.format(cfg.params))    \n",
    "    \n",
    "    if cfg.train.mode == 'standard':\n",
    "        acc_list = train(meters, loaders, model, optimizer,datasets)\n",
    "        acc_lists.append(acc_list)\n",
    "        max_acc.append(max(acc_list))\n",
    "    else:\n",
    "        train_dict[cfg.train.mode](\n",
    "            meters, loaders, model, optimizer, scheduler)\n",
    "np.savetxt('./' + cfg.out_dir+'/val'+'/middle'+f'/{cfg.gnn.layer_type}'+f'_{cfg.dataset.name}.txt', np.array(acc_lists))\n",
    "np.savetxt('./' + cfg.out_dir+'/val'+'/final'+f'/{cfg.gnn.layer_type}'+f'_{cfg.dataset.name}_avg_acc.txt', np.array([np.mean(max_acc)]))\n",
    "print(f'The average validation accuracy of {repeat} rounds is: {np.mean(max_acc)}')"
   ]
  },
  {
   "cell_type": "code",
   "execution_count": 3,
   "metadata": {},
   "outputs": [
    {
     "data": {
      "text/plain": [
       "'Tfg-gcn'"
      ]
     },
     "execution_count": 3,
     "metadata": {},
     "output_type": "execute_result"
    }
   ],
   "source": [
    "cfg.gnn.layer_type"
   ]
  },
  {
   "cell_type": "code",
   "execution_count": 39,
   "metadata": {},
   "outputs": [
    {
     "data": {
      "text/plain": [
       "Graph(G=[], edge_index=[2, 210], edge_label_index=[2, 210], graph_label=[1], node_clustering_coefficient_label=[54], node_feature=[54, 3], node_identity=[54, 10], node_label=[54], node_label_index=[54], task=[])"
      ]
     },
     "execution_count": 39,
     "metadata": {},
     "output_type": "execute_result"
    }
   ],
   "source": [
    "datasets[0].graphs[8]"
   ]
  },
  {
   "cell_type": "code",
   "execution_count": 37,
   "metadata": {},
   "outputs": [
    {
     "data": {
      "text/plain": [
       "6"
      ]
     },
     "execution_count": 37,
     "metadata": {},
     "output_type": "execute_result"
    }
   ],
   "source": [
    "datasets[0].num_labels"
   ]
  },
  {
   "cell_type": "code",
   "execution_count": 26,
   "metadata": {},
   "outputs": [
    {
     "data": {
      "text/plain": [
       "Graph(G=[], edge_index=[2, 44], edge_label_index=[2, 44], graph_label=[1], node_clustering_coefficient_label=[12], node_feature=[12, 3], node_identity=[12, 10], node_label=[12], node_label_index=[12], task=[])"
      ]
     },
     "execution_count": 26,
     "metadata": {},
     "output_type": "execute_result"
    }
   ],
   "source": [
    "datasets[1].graphs[0]"
   ]
  },
  {
   "cell_type": "code",
   "execution_count": 12,
   "metadata": {},
   "outputs": [],
   "source": [
    "a = next(iter(loaders[0]))"
   ]
  },
  {
   "cell_type": "code",
   "execution_count": 13,
   "metadata": {},
   "outputs": [
    {
     "data": {
      "text/plain": [
       "Batch(G=[128], batch=[8192], edge_index=[2, 66462], edge_label_index=[2, 66462], node_clustering_coefficient_label=[8192], node_feature=[8192, 1], node_label=[6528], node_label_index=[6528], task=[128])"
      ]
     },
     "execution_count": 13,
     "metadata": {},
     "output_type": "execute_result"
    }
   ],
   "source": [
    "a"
   ]
  },
  {
   "cell_type": "code",
   "execution_count": 15,
   "metadata": {},
   "outputs": [
    {
     "data": {
      "text/plain": [
       "Batch(G=[128], batch=[8192], edge_index=[2, 75134], edge_label_index=[2, 75134], node_clustering_coefficient_label=[8192], node_feature=[8192, 1], node_label=[1664], node_label_index=[1664], task=[128])"
      ]
     },
     "execution_count": 15,
     "metadata": {},
     "output_type": "execute_result"
    }
   ],
   "source": [
    "next(iter(loaders[1]))"
   ]
  },
  {
   "cell_type": "code",
   "execution_count": null,
   "metadata": {},
   "outputs": [],
   "source": []
  },
  {
   "cell_type": "code",
   "execution_count": 126,
   "metadata": {},
   "outputs": [],
   "source": [
    "from GraphGym.graphgym.loader import load_dataset"
   ]
  },
  {
   "cell_type": "code",
   "execution_count": 127,
   "metadata": {},
   "outputs": [],
   "source": [
    "d = load_dataset()"
   ]
  },
  {
   "cell_type": "code",
   "execution_count": 156,
   "metadata": {},
   "outputs": [
    {
     "data": {
      "text/plain": [
       "GraphDataset(80)"
      ]
     },
     "execution_count": 156,
     "metadata": {},
     "output_type": "execute_result"
    }
   ],
   "source": [
    "datasets[0]"
   ]
  },
  {
   "cell_type": "code",
   "execution_count": 129,
   "metadata": {},
   "outputs": [
    {
     "data": {
      "text/plain": [
       "<networkx.classes.graph.Graph at 0x7f74e8340790>"
      ]
     },
     "execution_count": 129,
     "metadata": {},
     "output_type": "execute_result"
    }
   ],
   "source": [
    "d[0]"
   ]
  },
  {
   "cell_type": "code",
   "execution_count": 130,
   "metadata": {},
   "outputs": [],
   "source": [
    "from deepsnap.dataset import GraphDataset\n",
    "e = GraphDataset(\n",
    "        d,\n",
    "        task=cfg.dataset.task,\n",
    "        edge_train_mode=cfg.dataset.edge_train_mode,\n",
    "        edge_message_ratio=cfg.dataset.edge_message_ratio,\n",
    "        edge_negative_sampling_ratio=cfg.dataset.edge_negative_sampling_ratio,\n",
    "        resample_disjoint=cfg.dataset.resample_disjoint,\n",
    "        minimum_node_per_graph=5)"
   ]
  },
  {
   "cell_type": "code",
   "execution_count": 131,
   "metadata": {},
   "outputs": [
    {
     "name": "stdout",
     "output_type": "stream",
     "text": [
      "[]\n"
     ]
    }
   ],
   "source": [
    "from GraphGym.graphgym.loader import transform_before_split\n",
    "f = transform_before_split(e)"
   ]
  },
  {
   "cell_type": "code",
   "execution_count": 158,
   "metadata": {},
   "outputs": [
    {
     "data": {
      "text/plain": [
       "1"
      ]
     },
     "execution_count": 158,
     "metadata": {},
     "output_type": "execute_result"
    }
   ],
   "source": [
    "f.num_labels"
   ]
  },
  {
   "cell_type": "code",
   "execution_count": 134,
   "metadata": {},
   "outputs": [],
   "source": [
    "g= f.split(\n",
    "            transductive=False,\n",
    "            split_ratio=cfg.dataset.split,\n",
    "            shuffle=cfg.dataset.shuffle_split)"
   ]
  },
  {
   "cell_type": "code",
   "execution_count": 141,
   "metadata": {},
   "outputs": [
    {
     "data": {
      "text/plain": [
       "Graph(G=[], edge_index=[2, 256], edge_label_index=[2, 256], node_clustering_coefficient_label=[64], node_feature=[64, 1], node_label=[64], node_label_index=[64], task=[])"
      ]
     },
     "execution_count": 141,
     "metadata": {},
     "output_type": "execute_result"
    }
   ],
   "source": [
    "g[0].graphs[0]"
   ]
  },
  {
   "cell_type": "code",
   "execution_count": 139,
   "metadata": {},
   "outputs": [
    {
     "data": {
      "text/plain": [
       "Graph(G=[], edge_index=[2, 256], edge_label_index=[2, 256], node_clustering_coefficient_label=[64], node_feature=[64, 1], node_label=[64], node_label_index=[64], task=[])"
      ]
     },
     "execution_count": 139,
     "metadata": {},
     "output_type": "execute_result"
    }
   ],
   "source": [
    "g[1].graphs[0]"
   ]
  },
  {
   "cell_type": "code",
   "execution_count": 142,
   "metadata": {},
   "outputs": [
    {
     "data": {
      "text/plain": [
       "[GraphDataset(80), GraphDataset(20)]"
      ]
     },
     "execution_count": 142,
     "metadata": {},
     "output_type": "execute_result"
    }
   ],
   "source": [
    "g"
   ]
  },
  {
   "cell_type": "code",
   "execution_count": 148,
   "metadata": {},
   "outputs": [],
   "source": [
    "from torch.utils.data import DataLoader   \n",
    "from deepsnap.batch import Batch\n",
    "h = DataLoader(g[1], collate_fn=Batch.collate(),\n",
    "                              batch_size=128, shuffle=True,\n",
    "                              num_workers=cfg.num_workers, pin_memory=False)"
   ]
  },
  {
   "cell_type": "code",
   "execution_count": 149,
   "metadata": {},
   "outputs": [
    {
     "data": {
      "text/plain": [
       "Batch(G=[20], batch=[1280], edge_index=[2, 5120], edge_label_index=[2, 5120], node_clustering_coefficient_label=[1280], node_feature=[1280, 1], node_label=[1280], node_label_index=[1280], task=[20])"
      ]
     },
     "execution_count": 149,
     "metadata": {},
     "output_type": "execute_result"
    }
   ],
   "source": [
    "next(iter(h))"
   ]
  },
  {
   "cell_type": "code",
   "execution_count": null,
   "metadata": {},
   "outputs": [],
   "source": []
  }
 ],
 "metadata": {
  "kernelspec": {
   "display_name": "Python [conda env:.conda-tf-geo]",
   "language": "python",
   "name": "conda-env-.conda-tf-geo-py"
  },
  "language_info": {
   "codemirror_mode": {
    "name": "ipython",
    "version": 3
   },
   "file_extension": ".py",
   "mimetype": "text/x-python",
   "name": "python",
   "nbconvert_exporter": "python",
   "pygments_lexer": "ipython3",
   "version": "3.8.0"
  }
 },
 "nbformat": 4,
 "nbformat_minor": 4
}
