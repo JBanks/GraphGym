{
 "cells": [
  {
   "cell_type": "code",
   "execution_count": 11,
   "id": "92e8cfb4-ed72-4f0e-a4d5-9453177f913a",
   "metadata": {},
   "outputs": [],
   "source": [
    "import numpy as np\n",
    "import os"
   ]
  },
  {
   "cell_type": "code",
   "execution_count": null,
   "id": "00c9bfb3-155e-47d9-8791-8add8c713da9",
   "metadata": {},
   "outputs": [],
   "source": []
  },
  {
   "cell_type": "code",
   "execution_count": 12,
   "id": "014a6f7c-75d1-4ba8-b61b-4b3abd9280f7",
   "metadata": {},
   "outputs": [],
   "source": [
    "path = './middle/'    "
   ]
  },
  {
   "cell_type": "code",
   "execution_count": 13,
   "id": "f4d3c3c0-b5c0-4886-adb7-7e439c905e39",
   "metadata": {},
   "outputs": [],
   "source": [
    "datasets = ['ba','ws','TU_ENZYMES','TU_PROTEINS','Cora','CiteSeer']"
   ]
  },
  {
   "cell_type": "code",
   "execution_count": 14,
   "id": "535a9b04-dae4-48d9-a7de-c4c4b77329e1",
   "metadata": {},
   "outputs": [],
   "source": [
    "tasks = ['Tfg-gcn_','Tfg-gat_','Tfg-idgcnfast_','Tfg-idgatfast_','Tfg-idgcn_','Tfg-idgat_']"
   ]
  },
  {
   "cell_type": "code",
   "execution_count": 15,
   "id": "f0f2c288-90da-4f92-bc6f-3b307033a42b",
   "metadata": {},
   "outputs": [],
   "source": [
    "def cal_mean_std(datasets,task,path):\n",
    "    result = []\n",
    "    acc_list = []\n",
    "    for dataset in datasets:\n",
    "        name = task + dataset + '.txt'\n",
    "        acc = np.loadtxt(path+name)\n",
    "        acc_list.append(acc)\n",
    "    acc_max_list = []\n",
    "    for acc in acc_list:\n",
    "        acc_max_list.append(acc.max(1))   \n",
    "    acc_max_np = np.array(acc_max_list)\n",
    "    result.append(np.around(acc_max_np.mean(1),3))\n",
    "    result.append(np.around(acc_max_np.std(1),2))\n",
    "    return np.array(result)"
   ]
  },
  {
   "cell_type": "code",
   "execution_count": 16,
   "id": "bd76bba1-dd85-4620-9098-a2501ee0e706",
   "metadata": {},
   "outputs": [],
   "source": [
    "results = []\n",
    "for task in tasks:\n",
    "    results.append(cal_mean_std(datasets,task,path))"
   ]
  },
  {
   "cell_type": "code",
   "execution_count": 17,
   "id": "a1629d00-a7c7-4259-ab22-2379ddce71ab",
   "metadata": {},
   "outputs": [
    {
     "data": {
      "text/plain": [
       "[array([[0.695, 0.489, 0.54 , 0.481, 0.879, 0.763],\n",
       "        [0.01 , 0.05 , 0.06 , 0.01 , 0.   , 0.01 ]]),\n",
       " array([[0.47 , 0.271, 0.492, 0.441, 0.878, 0.77 ],\n",
       "        [0.03 , 0.03 , 0.07 , 0.02 , 0.   , 0.01 ]]),\n",
       " array([[0.764, 0.571, 0.724, 0.728, 0.88 , 0.756],\n",
       "        [0.   , 0.05 , 0.05 , 0.01 , 0.01 , 0.01 ]]),\n",
       " array([[0.581, 0.616, 0.636, 0.621, 0.881, 0.759],\n",
       "        [0.02 , 0.04 , 0.05 , 0.02 , 0.01 , 0.   ]]),\n",
       " array([[0.964, 0.994, 0.97 , 0.986, 0.787, 0.767],\n",
       "        [0.01 , 0.   , 0.03 , 0.01 , 0.03 , 0.   ]]),\n",
       " array([[0.987, 0.967, 0.981, 0.991, 0.885, 0.771],\n",
       "        [0.   , 0.04 , 0.02 , 0.   , 0.   , 0.01 ]])]"
      ]
     },
     "execution_count": 17,
     "metadata": {},
     "output_type": "execute_result"
    }
   ],
   "source": [
    "results"
   ]
  },
  {
   "cell_type": "code",
   "execution_count": null,
   "id": "c8f0914a-4d09-46b5-bb21-5a648d79eb97",
   "metadata": {},
   "outputs": [],
   "source": []
  },
  {
   "cell_type": "code",
   "execution_count": 18,
   "id": "85ed3a14-2de0-41c2-abe2-cfde7288764e",
   "metadata": {},
   "outputs": [],
   "source": [
    "tasks = ['gnn-Tfg-idgin_','gnn-Tfg-idsage_']"
   ]
  },
  {
   "cell_type": "code",
   "execution_count": 19,
   "id": "aafb1715-4600-4f55-8532-2b4ac94f0b64",
   "metadata": {},
   "outputs": [],
   "source": [
    "results = []\n",
    "for task in tasks:\n",
    "    results.append(cal_mean_std(datasets,task,path))"
   ]
  },
  {
   "cell_type": "code",
   "execution_count": 20,
   "id": "1b271feb-ce56-443c-8dff-0ce2a39f9d9b",
   "metadata": {},
   "outputs": [
    {
     "data": {
      "text/plain": [
       "[array([[0.66 , 0.503, 0.521, 0.54 , 1.   , 0.948],\n",
       "        [0.03 , 0.05 , 0.09 , 0.01 , 0.   , 0.07 ]]),\n",
       " array([[0.579, 0.271, 0.608, 0.527, 1.   , 0.938],\n",
       "        [0.07 , 0.03 , 0.07 , 0.01 , 0.   , 0.09 ]])]"
      ]
     },
     "execution_count": 20,
     "metadata": {},
     "output_type": "execute_result"
    }
   ],
   "source": [
    "results"
   ]
  },
  {
   "cell_type": "code",
   "execution_count": null,
   "id": "455e0c51-f8ef-4274-b2ce-db833aa1d73e",
   "metadata": {},
   "outputs": [],
   "source": []
  },
  {
   "cell_type": "code",
   "execution_count": 22,
   "id": "eeb8fc11-62a2-4565-a3c2-3e919e17eab0",
   "metadata": {},
   "outputs": [],
   "source": [
    "tasks = ['gnn-Tfg-ginconv_','gnn-idTfg-ginconvFast_','gnn-Tfg-sageconv_','gnn-idTfg-sageconvFast_']"
   ]
  },
  {
   "cell_type": "code",
   "execution_count": 23,
   "id": "0e3a1f9b-3f02-4f0b-84b4-f2becd0f2a1b",
   "metadata": {},
   "outputs": [],
   "source": [
    "results = []\n",
    "for task in tasks:\n",
    "    results.append(cal_mean_std(datasets,task,path))"
   ]
  },
  {
   "cell_type": "code",
   "execution_count": 24,
   "id": "f684db51-4c2e-44aa-a675-0de3a6d01459",
   "metadata": {},
   "outputs": [
    {
     "data": {
      "text/plain": [
       "[array([[0.639, 0.47 , 0.543, 0.53 , 0.835, 0.702],\n",
       "        [0.01 , 0.04 , 0.06 , 0.01 , 0.01 , 0.02 ]]),\n",
       " array([[0.687, 0.709, 0.663, 0.64 , 0.809, 0.678],\n",
       "        [0.03 , 0.04 , 0.04 , 0.03 , 0.05 , 0.01 ]]),\n",
       " array([[0.47 , 0.271, 0.574, 0.491, 0.879, 0.762],\n",
       "        [0.03 , 0.03 , 0.08 , 0.02 , 0.   , 0.02 ]]),\n",
       " array([[0.909, 0.982, 0.956, 0.965, 0.878, 0.754],\n",
       "        [0.01 , 0.01 , 0.03 , 0.01 , 0.01 , 0.01 ]])]"
      ]
     },
     "execution_count": 24,
     "metadata": {},
     "output_type": "execute_result"
    }
   ],
   "source": [
    "results"
   ]
  },
  {
   "cell_type": "code",
   "execution_count": null,
   "id": "cff4449e-a991-4952-afc2-4c879a6bdf25",
   "metadata": {},
   "outputs": [],
   "source": []
  }
 ],
 "metadata": {
  "kernelspec": {
   "display_name": "Python 3",
   "language": "python",
   "name": "python3"
  },
  "language_info": {
   "codemirror_mode": {
    "name": "ipython",
    "version": 3
   },
   "file_extension": ".py",
   "mimetype": "text/x-python",
   "name": "python",
   "nbconvert_exporter": "python",
   "pygments_lexer": "ipython3",
   "version": "3.7.3"
  }
 },
 "nbformat": 4,
 "nbformat_minor": 5
}
